{
 "cells": [
  {
   "cell_type": "markdown",
   "metadata": {},
   "source": [
    "## ENGLISH"
   ]
  },
  {
   "cell_type": "code",
   "execution_count": 1,
   "metadata": {},
   "outputs": [
    {
     "name": "stdout",
     "output_type": "stream",
     "text": [
      "1225\n"
     ]
    }
   ],
   "source": [
    "import os\n",
    "import csv\n",
    "\n",
    "en_pairs = {}\n",
    "path = 'hatemeter_data_dump'\n",
    "for table in os.listdir(path):\n",
    "    if '[EN]' in table:\n",
    "        with open(path + os.sep + table) as f_in:\n",
    "            data = csv.reader(f_in, delimiter='\\t')\n",
    "            header = next(data)\n",
    "            if 'original' not in table:\n",
    "                for row in data:\n",
    "                    i, hs, cs, hstype, cstype = row\n",
    "                    en_pairs[i] = (hs, cs, hstype.lower(), cstype.lower())\n",
    "                    \n",
    "print(len(en_pairs.keys()))"
   ]
  },
  {
   "cell_type": "markdown",
   "metadata": {},
   "source": [
    "#### Table with the distribution of counterspeech types in the dataset"
   ]
  },
  {
   "cell_type": "code",
   "execution_count": 6,
   "metadata": {},
   "outputs": [
    {
     "name": "stdout",
     "output_type": "stream",
     "text": [
      "+--------------+--------+------------+\n",
      "|     Type     | Number | Percentage |\n",
      "+--------------+--------+------------+\n",
      "|   negative   |   1    |     0      |\n",
      "| consequences |   7    |     0      |\n",
      "| affiliation  |   18   |     1      |\n",
      "|   positive   |   59   |     4      |\n",
      "|    humor     |  121   |     8      |\n",
      "|  hypocrisy   |  193   |     13     |\n",
      "|   question   |  202   |     13     |\n",
      "|  denouncing  |  289   |     19     |\n",
      "|    facts     |  626   |     41     |\n",
      "+--------------+--------+------------+\n"
     ]
    }
   ],
   "source": [
    "from collections import Counter\n",
    "from prettytable import PrettyTable\n",
    "x = PrettyTable()\n",
    "\n",
    "cstypes = [en_pairs[key][3].lower() for key in en_pairs]\n",
    "\n",
    "cs_tags = {'negative': 0, 'denouncing': 0, 'facts': 0, 'question': 0, 'hypocrisy': 0, 'affiliation': 0, 'positive': 0, 'humor': 0, 'consequences': 0}\n",
    "\n",
    "for t in cstypes:\n",
    "    for tag in cs_tags.keys():\n",
    "        if tag in t:\n",
    "            cs_tags[tag] += 1\n",
    "            \n",
    "total = sum(cs_tags.values())\n",
    "\n",
    "x.field_names = ['Type', 'Number', 'Percentage']\n",
    "for tag in sorted(cs_tags, key = lambda x: cs_tags[x]):\n",
    "    x.add_row([tag, cs_tags[tag], round(cs_tags[tag]/total*100)])\n",
    "    \n",
    "print(x)"
   ]
  },
  {
   "cell_type": "markdown",
   "metadata": {},
   "source": [
    "#### Table with the distribution of hate types in the dataset"
   ]
  },
  {
   "cell_type": "code",
   "execution_count": 4,
   "metadata": {},
   "outputs": [
    {
     "name": "stdout",
     "output_type": "stream",
     "text": [
      "+--------------+--------+------------+\n",
      "|     Type     | Number | Percentage |\n",
      "+--------------+--------+------------+\n",
      "|   economic   |   54   |     4      |\n",
      "|  terrorism   |   78   |     6      |\n",
      "|    women     |   82   |     6      |\n",
      "|    crime     |  142   |     10     |\n",
      "| islamization |  160   |     11     |\n",
      "|    rapism    |  228   |     16     |\n",
      "|   generic    |  240   |     17     |\n",
      "|   culture    |  423   |     30     |\n",
      "+--------------+--------+------------+\n"
     ]
    }
   ],
   "source": [
    "hstypes = [en_pairs[key][2].lower() for key in en_pairs]\n",
    "\n",
    "hs_tags = {'rapism': 0, 'culture': 0, 'crime': 0, 'economic': 0, 'terrorism': 0, 'islamization': 0, 'generic': 0, 'women': 0}\n",
    "\n",
    "for t in hstypes:\n",
    "    for tag in hs_tags.keys():\n",
    "        if tag in t:\n",
    "            hs_tags[tag] += 1\n",
    "            \n",
    "x = PrettyTable()\n",
    "total = sum(hs_tags.values())\n",
    "\n",
    "x.field_names = ['Type', 'Number', 'Percentage']\n",
    "for tag in sorted(hs_tags, key = lambda x: hs_tags[x]):\n",
    "    x.add_row([tag, hs_tags[tag], round(hs_tags[tag]/total*100)])\n",
    "    \n",
    "print(x)"
   ]
  },
  {
   "cell_type": "markdown",
   "metadata": {},
   "source": [
    "#### Table with the distribution of counterspeech types across different hate types in the dataset"
   ]
  },
  {
   "cell_type": "code",
   "execution_count": 5,
   "metadata": {},
   "outputs": [
    {
     "name": "stdout",
     "output_type": "stream",
     "text": [
      "+--------------+--------------------+--------+-------------------------------+\n",
      "|  Hate type   | Counterspeech type | Number | Percentage for this hate type |\n",
      "+--------------+--------------------+--------+-------------------------------+\n",
      "|    rapism    |    consequences    |   1    |               0               |\n",
      "|    rapism    |    affiliation     |   3    |               1               |\n",
      "|    rapism    |       humor        |   7    |               2               |\n",
      "|    rapism    |      positive      |   9    |               3               |\n",
      "|    rapism    |     hypocrisy      |   34   |               12              |\n",
      "|    rapism    |      question      |   39   |               13              |\n",
      "|    rapism    |     denouncing     |   62   |               21              |\n",
      "|    rapism    |       facts        |  137   |               47              |\n",
      "|   culture    |    affiliation     |   3    |               1               |\n",
      "|   culture    |      positive      |   28   |               5               |\n",
      "|   culture    |       humor        |   40   |               7               |\n",
      "|   culture    |      question      |   66   |               12              |\n",
      "|   culture    |     hypocrisy      |   77   |               14              |\n",
      "|   culture    |     denouncing     |   96   |               18              |\n",
      "|   culture    |       facts        |  225   |               42              |\n",
      "|    crime     |    consequences    |   3    |               2               |\n",
      "|    crime     |       humor        |   6    |               3               |\n",
      "|    crime     |      positive      |   7    |               4               |\n",
      "|    crime     |      question      |   17   |               9               |\n",
      "|    crime     |     hypocrisy      |   22   |               12              |\n",
      "|    crime     |     denouncing     |   33   |               18              |\n",
      "|    crime     |       facts        |   93   |               51              |\n",
      "|   economic   |     hypocrisy      |   3    |               4               |\n",
      "|   economic   |       humor        |   3    |               4               |\n",
      "|   economic   |    affiliation     |   3    |               4               |\n",
      "|   economic   |      positive      |   4    |               6               |\n",
      "|   economic   |     denouncing     |   6    |               9               |\n",
      "|   economic   |      question      |   14   |               21              |\n",
      "|   economic   |       facts        |   35   |               51              |\n",
      "|  terrorism   |      positive      |   2    |               2               |\n",
      "|  terrorism   |       humor        |   4    |               4               |\n",
      "|  terrorism   |      question      |   10   |               11              |\n",
      "|  terrorism   |     denouncing     |   13   |               15              |\n",
      "|  terrorism   |     hypocrisy      |   19   |               21              |\n",
      "|  terrorism   |       facts        |   41   |               46              |\n",
      "| islamization |    consequences    |   2    |               1               |\n",
      "| islamization |      positive      |   4    |               2               |\n",
      "| islamization |     denouncing     |   29   |               14              |\n",
      "| islamization |     hypocrisy      |   30   |               14              |\n",
      "| islamization |       humor        |   30   |               14              |\n",
      "| islamization |      question      |   38   |               18              |\n",
      "| islamization |       facts        |   77   |               37              |\n",
      "|   generic    |      negative      |   1    |               0               |\n",
      "|   generic    |    consequences    |   2    |               1               |\n",
      "|   generic    |    affiliation     |   9    |               3               |\n",
      "|   generic    |      positive      |   12   |               4               |\n",
      "|   generic    |      question      |   27   |               9               |\n",
      "|   generic    |     hypocrisy      |   30   |               11              |\n",
      "|   generic    |       humor        |   34   |               12              |\n",
      "|   generic    |     denouncing     |   75   |               26              |\n",
      "|   generic    |       facts        |   95   |               33              |\n",
      "|    women     |      positive      |   3    |               3               |\n",
      "|    women     |       humor        |   4    |               4               |\n",
      "|    women     |      question      |   11   |               11              |\n",
      "|    women     |     hypocrisy      |   13   |               13              |\n",
      "|    women     |     denouncing     |   19   |               19              |\n",
      "|    women     |       facts        |   49   |               49              |\n",
      "+--------------+--------------------+--------+-------------------------------+\n"
     ]
    }
   ],
   "source": [
    "cross = {h: {} for h in hs_tags}\n",
    "for i in en_pairs:\n",
    "    for h in hs_tags:\n",
    "        for c in cs_tags:\n",
    "            if c in en_pairs[i][3] and h in en_pairs[i][2]:\n",
    "                try:\n",
    "                    cross[h][c] += 1\n",
    "                except KeyError:\n",
    "                    cross[h][c] = 1\n",
    "\n",
    "x = PrettyTable()\n",
    "\n",
    "x.field_names = ['Hate type', 'Counterspeech type', 'Number', 'Percentage for this hate type']\n",
    "                    \n",
    "for hs_type in cross:\n",
    "    cs_types = cross[hs_type]\n",
    "    total = sum(cs_types.values())\n",
    "    for cs_type in sorted(cs_types, key=lambda z: cs_types[z]):\n",
    "        x.add_row([hs_type, cs_type, cs_types[cs_type], round(cs_types[cs_type]/total*100)])\n",
    "\n",
    "print(x)"
   ]
  },
  {
   "cell_type": "markdown",
   "metadata": {},
   "source": [
    "## ITALIAN"
   ]
  },
  {
   "cell_type": "code",
   "execution_count": 6,
   "metadata": {},
   "outputs": [
    {
     "name": "stdout",
     "output_type": "stream",
     "text": [
      "577\n"
     ]
    }
   ],
   "source": [
    "it_pairs = {}\n",
    "\n",
    "for table in os.listdir(path):\n",
    "    if 'IT' in table:\n",
    "        with open(path + os.sep + table) as f_in:\n",
    "            data = csv.reader(f_in, delimiter='\\t')\n",
    "            header = next(data)\n",
    "            for row in data:\n",
    "                try:\n",
    "                    i, hs, cs, cstype, hstype = row\n",
    "                    it_pairs[i] = (hs, cs, hstype, cstype)\n",
    "                except ValueError:\n",
    "                    i, hs, cs, cstype, hstype = row[:5]\n",
    "                    it_pairs[i] = (hs, cs, hstype.lower(), cstype.lower())\n",
    "                    \n",
    "print(len(it_pairs.keys()))"
   ]
  },
  {
   "cell_type": "markdown",
   "metadata": {},
   "source": [
    "#### Table with the distribution of counterspeech types in the dataset"
   ]
  },
  {
   "cell_type": "code",
   "execution_count": 7,
   "metadata": {},
   "outputs": [
    {
     "name": "stdout",
     "output_type": "stream",
     "text": [
      "+--------------+--------+------------+\n",
      "|     Type     | Number | Percentage |\n",
      "+--------------+--------+------------+\n",
      "| consequences |   0    |     0      |\n",
      "|   negative   |   2    |     0      |\n",
      "| affiliation  |   5    |     1      |\n",
      "|   positive   |   18   |     3      |\n",
      "|    humor     |   19   |     3      |\n",
      "|  hypocrisy   |   44   |     7      |\n",
      "|  denouncing  |   84   |     12     |\n",
      "|   question   |  131   |     19     |\n",
      "|    facts     |  369   |     55     |\n",
      "+--------------+--------+------------+\n"
     ]
    }
   ],
   "source": [
    "x = PrettyTable()\n",
    "\n",
    "cstypes = [it_pairs[key][3].lower() for key in it_pairs]\n",
    "\n",
    "cs_tags = {'negative': 0, 'denouncing': 0, 'facts': 0, 'question': 0, 'hypocrisy': 0, 'affiliation': 0, 'positive': 0, 'humor': 0, 'consequences': 0}\n",
    "\n",
    "for t in cstypes:\n",
    "    for tag in cs_tags.keys():\n",
    "        if tag in t:\n",
    "            cs_tags[tag] += 1\n",
    "            \n",
    "total = sum(cs_tags.values())\n",
    "\n",
    "x.field_names = ['Type', 'Number', 'Percentage']\n",
    "for tag in sorted(cs_tags, key = lambda x: cs_tags[x]):\n",
    "    x.add_row([tag, cs_tags[tag], round(cs_tags[tag]/total*100)])\n",
    "    \n",
    "print(x)"
   ]
  },
  {
   "cell_type": "markdown",
   "metadata": {},
   "source": [
    "#### Table with the distribution of hate types in the dataset"
   ]
  },
  {
   "cell_type": "code",
   "execution_count": 8,
   "metadata": {},
   "outputs": [
    {
     "name": "stdout",
     "output_type": "stream",
     "text": [
      "+----------------+--------+------------+\n",
      "|      Type      | Number | Percentage |\n",
      "+----------------+--------+------------+\n",
      "|    generico    |   15   |     3      |\n",
      "|     donne      |   27   |     5      |\n",
      "|  criminalità   |   74   |     12     |\n",
      "|    povertà     |  100   |     17     |\n",
      "| islamizzazione |  176   |     29     |\n",
      "|   terrorismo   |  206   |     34     |\n",
      "+----------------+--------+------------+\n"
     ]
    }
   ],
   "source": [
    "hstypes = [it_pairs[key][2].lower() for key in it_pairs]\n",
    "\n",
    "hs_tags = {'terrorismo': 0, 'criminalità': 0, 'povertà': 0, 'islamizzazione': 0, 'donne': 0, 'generico': 0}\n",
    "\n",
    "for t in hstypes:\n",
    "    for tag in hs_tags.keys():\n",
    "        if tag in t:\n",
    "            hs_tags[tag] += 1\n",
    "            \n",
    "x = PrettyTable()\n",
    "total = sum(hs_tags.values())\n",
    "\n",
    "x.field_names = ['Type', 'Number', 'Percentage']\n",
    "for tag in sorted(hs_tags, key = lambda x: hs_tags[x]):\n",
    "    x.add_row([tag, hs_tags[tag], round(hs_tags[tag]/total*100)])\n",
    "    \n",
    "print(x)"
   ]
  },
  {
   "cell_type": "markdown",
   "metadata": {},
   "source": [
    "#### Conversion of Amnesty types into our types"
   ]
  },
  {
   "cell_type": "code",
   "execution_count": 10,
   "metadata": {},
   "outputs": [
    {
     "name": "stdout",
     "output_type": "stream",
     "text": [
      "+--------------+--------+------------+\n",
      "|     Type     | Number | Percentage |\n",
      "+--------------+--------+------------+\n",
      "|   generic    |   15   |     3      |\n",
      "|    women     |   27   |     5      |\n",
      "|    crime     |   74   |     12     |\n",
      "|  economics   |  100   |     17     |\n",
      "| islamization |  176   |     29     |\n",
      "|  terrorism   |  206   |     34     |\n",
      "+--------------+--------+------------+\n"
     ]
    }
   ],
   "source": [
    "converted = {}\n",
    "conversion = {'terrorismo': 'terrorism', 'criminalità': 'crime', 'povertà': 'economics', 'islamizzazione': 'islamization', 'donne': 'women', 'generico': 'generic'}\n",
    "\n",
    "for t in hstypes:\n",
    "    for tag in hs_tags.keys():\n",
    "        if tag in t:\n",
    "            try:\n",
    "                converted[conversion[tag]] += 1\n",
    "            except KeyError:\n",
    "                converted[conversion[tag]] = 1\n",
    "            \n",
    "x = PrettyTable()\n",
    "total = sum(converted.values())\n",
    "\n",
    "x.field_names = ['Type', 'Number', 'Percentage']\n",
    "for tag in sorted(converted, key = lambda x: converted[x]):\n",
    "    x.add_row([tag, converted[tag], round(converted[tag]/total*100)])\n",
    "    \n",
    "print(x)"
   ]
  },
  {
   "cell_type": "markdown",
   "metadata": {},
   "source": [
    "#### Table with the distribution of counterspeech types across hate types in the dataset"
   ]
  },
  {
   "cell_type": "code",
   "execution_count": 11,
   "metadata": {},
   "outputs": [
    {
     "name": "stdout",
     "output_type": "stream",
     "text": [
      "+----------------+--------------------+--------+-------------------------------+\n",
      "|   Hate type    | Counterspeech type | Number | Percentage for this hate type |\n",
      "+----------------+--------------------+--------+-------------------------------+\n",
      "|   terrorismo   |      negative      |   1    |               0               |\n",
      "|   terrorismo   |       humor        |   3    |               1               |\n",
      "|   terrorismo   |      positive      |   4    |               2               |\n",
      "|   terrorismo   |    affiliation     |   5    |               2               |\n",
      "|   terrorismo   |     hypocrisy      |   7    |               3               |\n",
      "|   terrorismo   |      question      |   31   |               13              |\n",
      "|   terrorismo   |     denouncing     |   40   |               17              |\n",
      "|   terrorismo   |       facts        |  144   |               61              |\n",
      "|  criminalità   |      positive      |   2    |               2               |\n",
      "|  criminalità   |       humor        |   3    |               3               |\n",
      "|  criminalità   |      question      |   7    |               8               |\n",
      "|  criminalità   |     denouncing     |   9    |               10              |\n",
      "|  criminalità   |     hypocrisy      |   14   |               16              |\n",
      "|  criminalità   |       facts        |   54   |               61              |\n",
      "|    povertà     |       humor        |   2    |               2               |\n",
      "|    povertà     |      positive      |   2    |               2               |\n",
      "|    povertà     |     hypocrisy      |   8    |               7               |\n",
      "|    povertà     |     denouncing     |   10   |               9               |\n",
      "|    povertà     |      question      |   28   |               26              |\n",
      "|    povertà     |       facts        |   59   |               54              |\n",
      "| islamizzazione |      negative      |   1    |               0               |\n",
      "| islamizzazione |       humor        |   8    |               4               |\n",
      "| islamizzazione |      positive      |   9    |               4               |\n",
      "| islamizzazione |     hypocrisy      |   14   |               7               |\n",
      "| islamizzazione |     denouncing     |   19   |               9               |\n",
      "| islamizzazione |      question      |   62   |               29              |\n",
      "| islamizzazione |       facts        |   99   |               47              |\n",
      "|     donne      |       humor        |   1    |               3               |\n",
      "|     donne      |      question      |   1    |               3               |\n",
      "|     donne      |     hypocrisy      |   2    |               7               |\n",
      "|     donne      |     denouncing     |   4    |               14              |\n",
      "|     donne      |       facts        |   21   |               72              |\n",
      "|    generico    |      positive      |   1    |               5               |\n",
      "|    generico    |     hypocrisy      |   1    |               5               |\n",
      "|    generico    |       humor        |   2    |               10              |\n",
      "|    generico    |      question      |   5    |               25              |\n",
      "|    generico    |     denouncing     |   5    |               25              |\n",
      "|    generico    |       facts        |   6    |               30              |\n",
      "+----------------+--------------------+--------+-------------------------------+\n"
     ]
    }
   ],
   "source": [
    "cross = {h: {} for h in hs_tags}\n",
    "for i in it_pairs:\n",
    "    for h in hs_tags:\n",
    "        for c in cs_tags:\n",
    "            if c in it_pairs[i][3] and h in it_pairs[i][2]:\n",
    "                try:\n",
    "                    cross[h][c] += 1\n",
    "                except KeyError:\n",
    "                    cross[h][c] = 1\n",
    "                    \n",
    "x = PrettyTable()\n",
    "\n",
    "x.field_names = ['Hate type', 'Counterspeech type', 'Number', 'Percentage for this hate type']\n",
    "                    \n",
    "for hs_type in cross:\n",
    "    cs_types = cross[hs_type]\n",
    "    total = sum(cs_types.values())\n",
    "    for cs_type in sorted(cs_types, key=lambda z: cs_types[z]):\n",
    "        x.add_row([hs_type, cs_type, cs_types[cs_type], round(cs_types[cs_type]/total*100)])\n",
    "\n",
    "print(x)"
   ]
  },
  {
   "cell_type": "markdown",
   "metadata": {},
   "source": [
    "## FRENCH"
   ]
  },
  {
   "cell_type": "code",
   "execution_count": 4,
   "metadata": {},
   "outputs": [
    {
     "name": "stdout",
     "output_type": "stream",
     "text": [
      "[\"L'islamophobie est un droit. Combattre l'islam par un devoir.\", 'La liberté de conscience aussi.', 'Islamophobia is a right. Fighting Islam is']\n",
      "[' a duty.', '', 'Also freedom of conscience.', 'humor']\n",
      "['', \"C'est quoi un voile islamique ? Encore une fois, il me faut du contexte !  Islam politique ? C'est à dire ?\", '', '', 'What is an Islamic veil? Again, I need a context!']\n",
      "[' Political Islam? What do you mean?', 'question']\n",
      "['', 'Auparavant : \" les femmes musulmanes portent un foulard car elles sont soumises\"  Maintenant : \" le voile islamique est la démonstrations d\\'un islam politique\"  Donc les femmes musulmanes n\\'ont pas de libre choix... mais quand même! Elle font le choix de soutenir un islam politique! Trouvez l\\'erreur...', '', '', 'Previously: \"Muslim women wear the veil because they are subjected\"']\n",
      "[' Now: \"The Islamic veil is the demonstration of a political Islam\"']\n",
      "[' So Muslim women have no choice ... once again! They make the choice to support a political Islam! Find the mistake ...', 'hypocrisy / facts']\n",
      "['', \"Certaines femmes travaillent. D'autres non.   Les femmes voilées sont des femmes... certaines travaillent. D'autres non.\", '', '', 'Some women work. Others not.']\n",
      "[' Veiled women are women ... some work. Others not.', 'facts']\n",
      "386\n"
     ]
    }
   ],
   "source": [
    "fr_pairs = {}\n",
    "path = 'hatemeter_data_dump'\n",
    "for table in os.listdir(path):\n",
    "    if 'FR' in table:\n",
    "        with open(path + os.sep + table) as f_in:\n",
    "            data = csv.reader(f_in, delimiter='\\t')\n",
    "            header = next(data)\n",
    "            for row in data:\n",
    "                try:\n",
    "                    hsfr, csfr, hsen, hstype, csen, cstype = row\n",
    "                    if hstype != '':\n",
    "                        current_hstype = hstype\n",
    "                    fr_pairs[csfr] = (hsfr, csfr, hsen, csen, current_hstype.lower(), cstype.lower())\n",
    "                except ValueError:\n",
    "                    print(row)\n",
    "                    \n",
    "print(len(fr_pairs.keys()))"
   ]
  },
  {
   "cell_type": "code",
   "execution_count": 5,
   "metadata": {},
   "outputs": [
    {
     "name": "stdout",
     "output_type": "stream",
     "text": [
      "{\"L'islamophobie est un délit.\": ('“L’islamophobie” c’est un moyen de nous retirer notre liberté d’expression.', \"L'islamophobie est un délit.\", 'Islamophobia  is a way to take away our freedom of expression.', 'Islamophobia is a crime.', 'generic', 'consequences'), 'La critique et le blasphémé sont deux choses différentes.': ('', 'La critique et le blasphémé sont deux choses différentes.', '', 'Critics and blasphemy are two different things.', 'generic', 'facts'), \"c'est faux.\": ('L’islam va à l’encontre des valeurs francaises.', \"c'est faux.\", 'Islam is against the french values.', \"it's wrong.\", 'generic', 'other'), 'Les musulmanes ne veulent pas interdire le blasphème.': ('', 'Les musulmanes ne veulent pas interdire le blasphème.', '', \"Muslims don't want to ban blasphemy.\", 'generic', 'facts'), \"L'islamophobie est une maladie comme tout racisme.\": ('', \"L'islamophobie est une maladie comme tout racisme.\", '', 'Islamophobia is a disease like any racism.', 'generic', 'facts'), \"L'islamophobie n'a rien a voir avec la liberté d’expression.\": ('', \"L'islamophobie n'a rien a voir avec la liberté d’expression.\", '', 'Islamophobia has nothing to do with freedom of expression.', 'generic', 'facts'), \"La liberté d'expression est défini par la lois Française.\": ('', \"La liberté d'expression est défini par la lois Française.\", '', 'Freedom of expression is defined by the French laws.', 'generic', 'facts'), \"La vocation de l'islam n'est pas d'obliger qui ce soit à faire quoi ce que ce soit.\": ('En fin de compte, les musulmans veulent soit nous convertir soit nous tuer.', \"La vocation de l'islam n'est pas d'obliger qui ce soit à faire quoi ce que ce soit.\", 'At the end, Muslims want to either convert us or kill us.', 'The vocation of Islam is not to force anyone to do anything.', 'islamization / crimes', 'positive'), \"L'islam est une belle religion de paix, en complète concordance avec les valeurs de la république liberté fraternité égalité\": ('', \"L'islam est une belle religion de paix, en complète concordance avec les valeurs de la république liberté fraternité égalité\", '', 'Islam is a beautiful religion of peace, in complete harmony with the values of the republic: freedom, equality and brotherhood', 'islamization / crimes', 'positive'), \"Il n'y a pas religion qui accepte et tolère les au tes religions que l'islam.\": (\"L'islam déteste les chrétiens et les juifs.\", \"Il n'y a pas religion qui accepte et tolère les au tes religions que l'islam.\", 'Islam hates Christians and Jews.', 'There is no religion that accepts and tolerates this religions as much as Islam', 'culture', 'facts / positive'), \"L'Islam ne déteste pas l'Islam les femmes. Elles sont partie intégrantes de la société.\": (\"L'Islam déteste les femmes.\", \"L'Islam ne déteste pas l'Islam les femmes. Elles sont partie intégrantes de la société.\", 'Islam hates women.', 'Islam does not hate Islamic women. They are an integral part of society.', 'women', 'facts'), \"Au contraire, il n'y a nulle religion qui met autant en valeur la femme que l'islam!\": ('', \"Au contraire, il n'y a nulle religion qui met autant en valeur la femme que l'islam!\", '', 'On the contrary, there is no religion in which women are worth as much as Islam!', 'women', 'facts'), \"L'islam est une religion de paix, d'amour et fraternité.\": (\"L'islam est barbare.\", \"L'islam est une religion de paix, d'amour et fraternité.\", 'Islam is barbaric.', 'Islam is a religion of peace, love and brotherhood.', 'culture', 'positive'), 'Commence par la folie dont tu es atteint.....': (\"L'islam est une maladie qui doit être éradiquée.\", 'Commence par la folie dont tu es atteint.....', 'Islam is a disease that must be eradicated.', 'Start with the madness you have reached .....', 'culture', 'denouncing'), 'Commence par l islamophobie, véritable fléau. ...': ('', 'Commence par l islamophobie, véritable fléau. ...', '', 'Start with Islamophobia, a real scourge. ...', 'culture', 'denouncing'), 'Ta haine aussi...': ('', 'Ta haine aussi...', '', 'Also your hate...', 'culture', 'denouncing'), 'Commençons par l islamophobie, véritable fléau. ...': ('', 'Commençons par l islamophobie, véritable fléau. ...', '', \"Let's start with the Islamophobia scourge. ...\", 'culture', 'denouncing'), 'A quand l antivirus des fascistes?': ('', 'A quand l antivirus des fascistes?', '', 'When will the fascist antivirus arrive?', 'culture', 'humor'), \"L'islam est une religion reconnue, la maladie est votre haine. N'essayez pas de nous contaminer\": ('', \"L'islam est une religion reconnue, la maladie est votre haine. N'essayez pas de nous contaminer\", '', 'Islam is a recognized religion, your hate is the disease. Do not try to contaminate us', 'culture', 'denouncing / facts'), \"La haine et la xénophobie doivent être combattu rien d'autre\": ('', \"La haine et la xénophobie doivent être combattu rien d'autre\", '', 'Hatred and xenophobia must be fought, nothing else.', 'culture', 'denouncing'), 'Votre haine est la maladie, la tolérance est le remède': ('', 'Votre haine est la maladie, la tolérance est le remède', '', 'Your hatred is the disease, tolerance is the cure', 'culture', 'denouncing'), \"L'Islam est une religion qui doit être respectée comme toutes les autres religions en France.\": ('', \"L'Islam est une religion qui doit être respectée comme toutes les autres religions en France.\", '', 'Islam is a religion that must be respected like all other religions in France.', 'culture', 'facts'), \"Rassurez-vous : l'islam n'est pas contagieux. En revanche, les idées fausses le sont très certainement. Il faut donc les éradiquer absolument. Pour cela, n'hésitez pas à vous ouvrir à autrui et à vous informer en visitant notre site. Votre santé ne s'en portera que mieux.\": ('', \"Rassurez-vous : l'islam n'est pas contagieux. En revanche, les idées fausses le sont très certainement. Il faut donc les éradiquer absolument. Pour cela, n'hésitez pas à vous ouvrir à autrui et à vous informer en visitant notre site. Votre santé ne s'en portera que mieux.\", '', 'Rest assured: Islam is not contagious. On the other hand, misunderstandings certainly are. We must absolutely eradicate them. So, do not hesitate to open up to others and inform you by visiting our site. Your health will only improve.', 'culture', 'denouncing / humor'), \"L'islam c'est de l'amour à qui veut le prendre\": ('', \"L'islam c'est de l'amour à qui veut le prendre\", '', 'Islam is love for those who want to take it.', 'culture', 'positive'), \"L'ignorance est une maladie que l'islam peut éradiquer!\": ('', \"L'ignorance est une maladie que l'islam peut éradiquer!\", '', 'Ignorance is a disease that can eradicate Islam!', 'generic', 'denouncing'), 'Tes propos confirment que tu ignores la définition de tes paroles....': (\"L'Islam est une religion de guerre, nous devons tous le combattre.\", 'Tes propos confirment que tu ignores la définition de tes paroles....', 'Islam is a religion of war, we must all fight.', 'Your words confirm that you ignore the definition of your words ....', 'generic', 'denouncing'), 'Guerre 14_18 guerre 36_45? Soulignons la bravoure des musulmans, pendant ces guerres......': ('', 'Guerre 14_18 guerre 36_45? Soulignons la bravoure des musulmans, pendant ces guerres......', '', 'War 14_18 war 36_45? We emphasize the courage of Muslims during these wars ......', 'generic', 'hypocrisy'), 'On derange beaucoup mine de rien....': ('', 'On derange beaucoup mine de rien....', '', 'it does not disturb anything', 'generic', 'facts'), 'Tes paroles confirment que tu ne connais pas la définition des mots que tu emploies': ('', 'Tes paroles confirment que tu ne connais pas la définition des mots que tu emploies', '', 'Your words confirm that you do not know the definition of the words you use.', 'generic', 'denouncing'), 'Guerre 14_18, guerre 39_45, soulignons la bravoure de ces musulmans morts pour la France.': ('', 'Guerre 14_18, guerre 39_45, soulignons la bravoure de ces musulmans morts pour la France.', '', 'War 14-18, war 39_45, point out the courage of these Muslims who died for France.', 'generic', 'hypocrisy'), 'Quand est ce que nous combattrons tes propos ?': ('', 'Quand est ce que nous combattrons tes propos ?', '', 'When will we fight your words?', 'generic', 'humor / denouncing'), \"L'islam vit en paix depuis des siècles, c'est un fait que votre haine ne pourra pas nier\": ('', \"L'islam vit en paix depuis des siècles, c'est un fait que votre haine ne pourra pas nier\", '', 'Islam lived in peace for centuries, it is a fact that your hate can not deny', 'generic', 'facts / denouncing'), \"L'islam ne prône pas la guerre contrairement à vos fantasmes\": ('', \"L'islam ne prône pas la guerre contrairement à vos fantasmes\", '', 'Islam does not defend war unlike your fantasies', 'generic', 'facts'), \"L'Islam est une religion de paix et non de guerre.\": ('', \"L'Islam est une religion de paix et non de guerre.\", '', 'Islam is a religion of peace and not of war.', 'generic', 'positive'), \"Ce sont les massages de haine qu'il faut combattre. L'islam est une religion qui invite au vivre-ensemble et donc pas au combat.\": ('', \"Ce sont les massages de haine qu'il faut combattre. L'islam est une religion qui invite au vivre-ensemble et donc pas au combat.\", '', 'It is the hate of massages that must be fought. Islam is a religion that invites to live together and therefore not in conflit.', 'generic', 'positive / denouncing'), \"L'Islam est une religion de paix, d'amour et de fraternité, il a jamais été question de tuer ou brutaliser des personnes\": ('', \"L'Islam est une religion de paix, d'amour et de fraternité, il a jamais été question de tuer ou brutaliser des personnes\", '', 'Islam is a religion of peace, love and brotherhood, it never intended to kill or brutalize people', 'generic', 'positive'), \"L'islam ne connaît pas la guerre, l'islam est tout le contraire de la guerre, ce n'est que de l'amour et paix\": ('', \"L'islam ne connaît pas la guerre, l'islam est tout le contraire de la guerre, ce n'est que de l'amour et paix\", '', 'Islam does not know the war, Islam is the opposite of war, it is only love and peace', 'culture', 'positive'), \"#islamophobie. L'Islam comme le Christianisme et le Judaïsme ont pour origine les valeurs d'égalité, de liberté et de fraternité.\": (\"L'islam est une religion incompatible avec les valeurs de la République.\", \"#islamophobie. L'Islam comme le Christianisme et le Judaïsme ont pour origine les valeurs d'égalité, de liberté et de fraternité.\", 'Islam is a religion incompatible with the values \\u200b\\u200bof the Republic.', '#islamophobie. Islam as Christianity and Judaism originates from the values of equality, freedom and fraternity.', 'culture', 'positive'), 'la république ne reconnait que des citoyens et assure le libre exercice des cultes': ('', 'la république ne reconnait que des citoyens et assure le libre exercice des cultes', '', 'the republic recognizes only citizens and guarantees the free exercise of cults.', 'culture', 'facts'), 'Votre question sous-tend des idées malveillantes qui peuvent briser la cohésion citoyenne': ('', 'Votre question sous-tend des idées malveillantes qui peuvent briser la cohésion citoyenne', '', 'Your question is the basis of malicious ideas that can break the cohesion of citizens.', 'culture', 'denouncing'), 'Le fameux point godwin': ('', 'Le fameux point godwin', '', 'The famous Godwin point', 'culture', 'humor'), \"je me permet de vous renvoyez à l'histoire de Philippe Grenier, député du Doubs au 19ème siècle\": ('', \"je me permet de vous renvoyez à l'histoire de Philippe Grenier, député du Doubs au 19ème siècle\", '', 'I would like to send you to the story of Philippe Grenier, a member of the Doubs in the 19th century ', 'culture', 'facts'), 'Votre discours est insidieux et révoltant': ('', 'Votre discours est insidieux et révoltant', '', 'Your speech is insidious and disgusting.', 'culture', 'denouncing'), 'Citation aussi idiote et infondée que celui ou celle qui la cite': ('', 'Citation aussi idiote et infondée que celui ou celle qui la cite', '', 'Quote silly and unfounded as that one who quotes it.', 'culture', 'negative / denouncing'), 'Les valeurs de la République sont obsolètes elles ne tiennent pas compte de la réalité': ('', 'Les valeurs de la République sont obsolètes elles ne tiennent pas compte de la réalité', '', 'The values of the Republic are obsolete and do not reflect reality.', 'culture', 'facts'), 'Le vivre ensemble dépend de la bonne volonté de chacun et non d une politique': ('', 'Le vivre ensemble dépend de la bonne volonté de chacun et non d une politique', '', \"Living together depends on everyone's good will and not on politics.\", 'culture', 'facts'), \"L'islam veut dire paix, et comme la république française, prône des valeurs identiques, de liberté, fraternité, égalité\": ('', \"L'islam veut dire paix, et comme la république française, prône des valeurs identiques, de liberté, fraternité, égalité\", '', 'Islam means peace and like the French republic does, it defends identical values, freedom, fraternity, equality', 'culture', 'facts / positive'), 'Faux': ('', 'Faux', '', 'FALSE', 'culture', 'other'), 'Tout a fait compatible': ('', 'Tout a fait compatible', '', 'everything is compatible', 'culture', 'facts'), 'Pourtant cela se passe très bien depuis très longtemps, bizarre votre tweet.': ('', 'Pourtant cela se passe très bien depuis très longtemps, bizarre votre tweet.', '', 'Yet it has been going very well for a long time, strange your tweet', 'culture', 'humor'), \"Quelle sont les incompatibilités? moi je n'en vois pas.\": ('', \"Quelle sont les incompatibilités? moi je n'en vois pas.\", '', 'What are the incompatibilities? I do not see them.', 'culture', 'question'), 'Les musulmans dans leurs majorités respectent les lois de la république.': ('', 'Les musulmans dans leurs majorités respectent les lois de la république.', '', 'The majority of Muslims respects the laws of the republic.', 'culture', 'facts'), \"La République nous apprends la liberté, l'égalité, la fraternité...Aucune religion n'entre en opposition avec ces valeurs.\": ('', \"La République nous apprends la liberté, l'égalité, la fraternité...Aucune religion n'entre en opposition avec ces valeurs.\", '', 'The Republic teach us liberty, equality, fraternity ... No religion comes into conflict with those values.', 'culture', 'positive / facts'), 'La république est aveugle, il ne lui convient pas de rendre compatible une religion.': ('', 'La république est aveugle, il ne lui convient pas de rendre compatible une religion.', '', 'The republic is blind, it is not suitable for making a religion compatible.', 'culture', 'facts'), 'La république par définition garantie la liberté des cultes.': ('', 'La république par définition garantie la liberté des cultes.', '', 'The republic by definition guarantees freedom of worship.', 'culture', 'facts'), \"#islamophobie. L’islam n'est pas une maladie. Elle n'est pas contagieuse.\": (\"L'islam nous envahira: c'est l'islamisation.\", \"#islamophobie. L’islam n'est pas une maladie. Elle n'est pas contagieuse.\", \"Islam will invade us: it's Islamization.\", '#islamophobie. Islam is not a disease. It is not contagious.', 'culture', 'facts'), 'Est ce un pays?': ('', 'Est ce un pays?', '', 'Is this a country?', 'culture', 'question'), \"c'est un mythe qui est répandu dans les milieux identitaires rassurez vous\": ('', \"c'est un mythe qui est répandu dans les milieux identitaires rassurez vous\", '', \"it is a myth that is prevalent in identity settings, don't worry\", 'culture', 'humor'), \"Faire le jeu de la division empêche d'avancer ensemble sur les questions de racisme et les questions sociales\": ('', \"Faire le jeu de la division empêche d'avancer ensemble sur les questions de racisme et les questions sociales\", '', 'Making the game of the division prevent you from moving forward on issues of racism and social problems', 'culture', 'denouncing'), \"je vous invite à vous intéresser à l'histoire de l'indonésie\": ('', \"je vous invite à vous intéresser à l'histoire de l'indonésie\", '', 'I invite you to take a look at the history of Indonesia.', 'culture', 'facts'), \"j'ose espérer que vous ne souhaitez pas procéder comme en Chine\": ('', \"j'ose espérer que vous ne souhaitez pas procéder comme en Chine\", '', 'I hope you do not want to proceed like in China', 'culture', 'hypocrisy'), 'larousse ou robert?': ('', 'larousse ou robert?', '', 'Larousse or Robert?', 'culture', 'humor'), 'Ce sera toujours mieux que \" les envahisseurs\" ou \"les gilets jaunes\"!': ('', 'Ce sera toujours mieux que \" les envahisseurs\" ou \"les gilets jaunes\"!', '', 'It will always be better than \"invaders\" or \"yellow jackets\"!', 'culture', 'humor'), \"C'est quoi ton numéro, tu as des visions futuristes\": ('', \"C'est quoi ton numéro, tu as des visions futuristes\", '', \"What's your number? you have futuristic visions\", 'culture', 'humor'), \"L'islam veut dire Paix\": ('', \"L'islam veut dire Paix\", '', 'Islam means Peace', 'culture', 'positive'), \"L'islam n'envahit pas la France. Ce sont les discours haineux qui entretiennent cette impression. Apprendre à connaître l'autre, c'est la voie vers le respect mutuel et des relations interpersonnelles apaisées. Vous verrez alors que les Musulmans vivent leur foi en toute quiétude et dans le respect des libertés d'autrui.\": ('', \"L'islam n'envahit pas la France. Ce sont les discours haineux qui entretiennent cette impression. Apprendre à connaître l'autre, c'est la voie vers le respect mutuel et des relations interpersonnelles apaisées. Vous verrez alors que les Musulmans vivent leur foi en toute quiétude et dans le respect des libertés d'autrui.\", '', 'Islam does not invade France. It is the incitement to hatred that maintains this impression. Knowing each other is the way of mutual respect and interpersonal relationships. You will see that Muslims live their faith in peace and respect for the freedoms of others.', 'culture', 'positive / denouncing'), 'Donc ilfaut des écoles et former des imams sans oublier des mosquées digne de nom': ('', 'Donc ilfaut des écoles et former des imams sans oublier des mosquées digne de nom', '', 'So we need schools and we train imams without forgetting the worthy of mosques.', 'culture', 'facts'), 'Enfin on reconnaît les musulmans en france': ('', 'Enfin on reconnaît les musulmans en france', '', 'Finally we recognize the Muslims in France', 'culture', 'humor'), \"L'islam est en Europe depuis des siècles, le problème c'est l'extrême droite et ça a l'a toujours été\": ('', \"L'islam est en Europe depuis des siècles, le problème c'est l'extrême droite et ça a l'a toujours été\", '', 'Islam has been in Europe for centuries, the problem is the extreme right and it has always been.', 'culture', 'facts'), \"La cohabitation fonctionne depuis des siècles, et à beaucoup apporter à l'Europe. C'est vous qui essayez de créer des problèmes.\": ('', \"La cohabitation fonctionne depuis des siècles, et à beaucoup apporter à l'Europe. C'est vous qui essayez de créer des problèmes.\", '', 'Cohabitation has been working for centuries and has brought a lot to Europe. You are the one who is trying to create problems', 'islamization', 'facts / denouncing'), 'Toutes les formes de phobie se soignent, je te propose une cure avec des musulmans.': ('', 'Toutes les formes de phobie se soignent, je te propose une cure avec des musulmans.', '', 'All forms of phobia can be cured, I offer you a cure with the Muslims.', 'islamization', 'humor'), \"L'islamophobie est un délit punit par la loi.\": ('', \"L'islamophobie est un délit punit par la loi.\", '', 'Islamophobia is a crime punishable by law.', 'islamization', 'consequences'), \"L'islamophobie est un délit, punie par la loi, envers les musulmans, ce n'est en aucun cas un devoir\": ('', \"L'islamophobie est un délit, punie par la loi, envers les musulmans, ce n'est en aucun cas un devoir\", '', 'Islamophobia is a crime against Muslims, punishable by law, it is in no way a duty', 'generic', 'consequences'), \"Non l'Islam est une religion avec une histoire comme toutes les autres. Merci\": ('L’islam est la religion de l’obscurantisme.', \"Non l'Islam est une religion avec une histoire comme toutes les autres. Merci\", 'Islam is the religion of obscurantism.', 'No, Islam is a religion with a history like any other. thank you', 'generic', 'facts'), 'jugement personnel que vous souhaitez érigez en règle universelle': ('', 'jugement personnel que vous souhaitez érigez en règle universelle', '', 'personal judgment that you wish to erect as a universal rule', 'generic', 'denouncing'), 'votre manque de connaissance et de culture me contraint à vous inviter à un thé pour vous transmettre des éléments de ma religion': ('', 'votre manque de connaissance et de culture me contraint à vous inviter à un thé pour vous transmettre des éléments de ma religion', '', 'your lack of knowledge and culture forces me to invite you to a tea to convey some elements of my religion', 'generic', 'denouncing'), \"Des preuves ? Il n'y en a pas. L'Islam à été plutôt une source de lumière pour la renaissance de l'Europe comme l'attestent tous les travaux. L'Islam n'a jamais pratiqué l'inquisition comme en atteste la coexistence intelligente entre les religions en Espagne musulmane\": ('', \"Des preuves ? Il n'y en a pas. L'Islam à été plutôt une source de lumière pour la renaissance de l'Europe comme l'attestent tous les travaux. L'Islam n'a jamais pratiqué l'inquisition comme en atteste la coexistence intelligente entre les religions en Espagne musulmane\", '', 'Evidence? There are none. Islam was rather a source of light for the rebirth of Europe, as evidenced by all the works. Islam has never practiced the Inquisition as demonstrated by the intelligent coexistence of religions in Muslim Spain.', 'generic', 'facts'), 'Vérifie tes sources ! L\\'Islam prône la liberté de religion comme dans le Coran \"nulle contrainte en religion\", prône les valeurs de solidarité, de paix... . Il a été une source de lumière pour l\\'humanité avec beaucoup de découvertes': ('', 'Vérifie tes sources ! L\\'Islam prône la liberté de religion comme dans le Coran \"nulle contrainte en religion\", prône les valeurs de solidarité, de paix... . Il a été une source de lumière pour l\\'humanité avec beaucoup de découvertes', '', 'Check your sources! Islam supports freedom of religion as in the Koran \"no bond in religion\", it supports the values of solidarity, peace .... It has been a source of light for humanity with many discoveries', 'generic', 'positive / facts'), \"L'Islam est une religion de tolérance et de lumière. L'apport des savants musulmans au bien être de l'humanité est connu. N'importe quel obscurantisme est étranger au courant\": ('', \"L'Islam est une religion de tolérance et de lumière. L'apport des savants musulmans au bien être de l'humanité est connu. N'importe quel obscurantisme est étranger au courant\", '', 'Islam is a religion of tolerance and light. The contribution of Muslim scholars to the well-being of humanity is known. Any obscurantism has nothing to do with this current.', 'generic', 'positive'), \"Ah bon ? Comment expliquer que le prophète dit que tout extrémisme ne fait pas partie de l'islam. L'Islam est une religion du juste milieu et une lumière pour l'humanité\": ('', \"Ah bon ? Comment expliquer que le prophète dit que tout extrémisme ne fait pas partie de l'islam. L'Islam est une religion du juste milieu et une lumière pour l'humanité\", '', 'Really? How do you explain that the prophet says that all extremism is not part of Islam? Islam is a religion of the middle ground and a light for humanity', 'generic', 'positive'), \"Dans toute communauté humaine, il y a toujours des extrémistes, mais ce n'est pas l'apanage de l'Islam, et c'est contraire à son message\": ('', \"Dans toute communauté humaine, il y a toujours des extrémistes, mais ce n'est pas l'apanage de l'Islam, et c'est contraire à son message\", '', 'In every community, there are always extremists, but it is not exclusive to Islam, and this is contrary to its message', 'culture', 'facts'), \"L'islam n'a pas d'appartenance géographique.\": ('L’islam n’appartient pas à l’Europe.', \"L'islam n'a pas d'appartenance géographique.\", 'Islam does not belong to Europe.', 'Islam has no geographical location.', 'culture', 'facts'), \"L'islam n'est pas une religion appartenant au moyen orient.\": ('', \"L'islam n'est pas une religion appartenant au moyen orient.\", '', 'Islam is not a religion belonging to the middle east.', 'culture', 'facts'), \"L'islam est venue bien avant l'Europe, donc relié l'islam a l’Europe n'est pas correct.\": ('', \"L'islam est venue bien avant l'Europe, donc relié l'islam a l’Europe n'est pas correct.\", '', 'Islam has arrived well before Europe, so the connection of Islam with Europe is not correct.', 'culture', 'facts'), \"L'Europe est peuplé de toute religion et toute ethnie.\": ('', \"L'Europe est peuplé de toute religion et toute ethnie.\", '', 'Europe is full of all religions and ethnicities.', 'culture', 'facts'), \"L'islam est une religion universelle.\": ('', \"L'islam est une religion universelle.\", '', 'Islam is a universal religion.', 'culture', 'facts'), \"Ce discours se contredit avec la laïcité, d'autre des communautés européennes adoptent l'islam depuis plusieurs siècles, comme d'autres communautés chrétiennes ont conservé leur religion au sein des pays dits musulmans.\": ('', \"Ce discours se contredit avec la laïcité, d'autre des communautés européennes adoptent l'islam depuis plusieurs siècles, comme d'autres communautés chrétiennes ont conservé leur religion au sein des pays dits musulmans.\", '', 'This speech is in contradiction with secularism, some European communities have adopted Islam for centuries, while other Christian communities have maintained their religion in the so-called Muslim countries.', 'culture', 'facts'), \"Les individus ont libre choix d'adopter l'islam comme religion sans se soucier de son origine.\": ('', \"Les individus ont libre choix d'adopter l'islam comme religion sans se soucier de son origine.\", '', 'Individuals have the freedom to adopt Islam as a religion regardless their origins', 'generic', 'facts'), \"L'islam est une religion qui s'adapte au pays.\": ('', \"L'islam est une religion qui s'adapte au pays.\", '', 'Islam is a religion that adapts to the country.', 'generic', 'positive'), 'Comment définissez vous les valeurs françaises.': ('', 'Comment définissez vous les valeurs françaises.', '', 'How do you define French values?', 'culture', 'question'), 'Il y a lieu de rappeler la définition de la laïcité, qui libère la liberté de conscience et non la restreint....': (\"La France est un pays laïc, la pratique de l'Islam devrait être interdite.\", 'Il y a lieu de rappeler la définition de la laïcité, qui libère la liberté de conscience et non la restreint....', 'France is a secular country, the practice of Islam should be banned.', 'It is necessary to remember the definition of secularism, which gives freedom of conscience and does not restrict it ....', 'culture', 'facts'), 'La pratique de l islam n empeche pas le vivre ensemble et la conviction de chacun, c est ça être laïque.': ('', 'La pratique de l islam n empeche pas le vivre ensemble et la conviction de chacun, c est ça être laïque.', '', \"The practice of Islam does not prevent us from living together and everyone's belief is secular.\", 'culture', 'positive'), 'La laïcité par définition garantit le droit de pratiquer peu importe la religion.': ('', 'La laïcité par définition garantit le droit de pratiquer peu importe la religion.', '', 'Secularism by definition guarantees the right to practice whatever religion.', 'culture', 'facts'), \"La France est un pays laïc, oui. Au nom de cette laïcité, l'Etat français s'astreint à la neutralité quant aux libertés religieuses, qui d'ailleurs sont inscrites dans les libertés fondamentales. C'est la laïcité qui garantit et protège les convictions religieuses quelles qu'elles soient en France.\": ('', \"La France est un pays laïc, oui. Au nom de cette laïcité, l'Etat français s'astreint à la neutralité quant aux libertés religieuses, qui d'ailleurs sont inscrites dans les libertés fondamentales. C'est la laïcité qui garantit et protège les convictions religieuses quelles qu'elles soient en France.\", '', 'France is a secular country, yes. In the name of this secularism, the French state is forced to neutrality with respect to religious freedoms, which are also included in fundamental freedoms. It is secularism that guarantees and protects religious beliefs in France, whatever they are.', 'culture', 'facts'), 'Au contraire, le principe de laïcité de la république française protège chaque individu qui voudrait pratiquer sa confession de manière libre': ('', 'Au contraire, le principe de laïcité de la république française protège chaque individu qui voudrait pratiquer sa confession de manière libre', '', 'On the contrary, the principle of secularism of the French Republic protects every individual who wants to freely practice his confession', 'generic', 'facts'), \"Non la laïcité n'est pas contraire au voile.\": ('Le voile est contraire à la laïcité.', \"Non la laïcité n'est pas contraire au voile.\", 'The veil is contrary to secularism.', 'No secularism is against the veil.', 'generic', 'facts'), 'Bien au contraire la laïcité permet à tout citoyen de vivre librement sa confession.': ('', 'Bien au contraire la laïcité permet à tout citoyen de vivre librement sa confession.', '', 'On the contrary, secularism allows every citizen to freely profess his faith.', 'generic', 'facts'), 'Il semblerait que vous connaissez pas la définition de la laicité': ('', 'Il semblerait que vous connaissez pas la définition de la laicité', '', 'You seem to not know the definition of secularism', 'generic', 'denouncing'), \"le but c'est la liberté de conscience la finalité c'est la non discrimination pour raisons de religion\": ('', \"le but c'est la liberté de conscience la finalité c'est la non discrimination pour raisons de religion\", '', 'the goal is freedom of conscience, the purpose is non-discrimination on the basis of religion.', 'generic', 'other'), \"Il y a confusion. La laïcité veut dire que l'état n'a pas de religion officielle, mais les citoyens ont choix de religion et de la manifester; l'état est garant de ces libertés. Donc le port du voile est une liberté pleinement garanti par la loi.\": ('', \"Il y a confusion. La laïcité veut dire que l'état n'a pas de religion officielle, mais les citoyens ont choix de religion et de la manifester; l'état est garant de ces libertés. Donc le port du voile est une liberté pleinement garanti par la loi.\", '', 'There is confusion. Secularism means that the state does not have an official religion, but citizens have the choice of religion and they manifest it; the state is the guarantor of these liberties. So wearing the veil is a freedom fully guaranteed by law.', 'generic', 'facts'), 'Révisez vos leçons de droits ! La laïcité garantit la liberté de manifester sa religion à tous et donc le port du voile.': ('', 'Révisez vos leçons de droits ! La laïcité garantit la liberté de manifester sa religion à tous et donc le port du voile.', '', \"Review your law lessons! Secularism guarantees the freedom to express one's religion to everyone and therefore the use of the veil.\", 'generic', 'facts'), 'Comme le port de tous les autres signes religieux (croix ou kippa par exemple), le port du voile est garantie par la laïcité': ('', 'Comme le port de tous les autres signes religieux (croix ou kippa par exemple), le port du voile est garantie par la laïcité', '', 'Like the use of all the other religious symbols (cross or kippah for example), the use of the veil is guaranteed by secularism', 'generic', 'facts'), 'La constitution et les lois garantissent la liberté de manifester sa religion, et par conséquent le port du voile': ('', 'La constitution et les lois garantissent la liberté de manifester sa religion, et par conséquent le port du voile', '', \"The constitution and the laws guarantee the freedom to manifest one's own religion and therefore the use of the veil.\", 'generic', 'facts'), 'Et votre affirmation est complètement fausse. La liberté de manifester sa religion est garantie par la laïcité': ('', 'Et votre affirmation est complètement fausse. La liberté de manifester sa religion est garantie par la laïcité', '', \"And your statement is completely false. The freedom to express one's religion is guaranteed by secularism.\", 'culture', 'facts'), \"Le voile islamique n'a pas de source dans l'islam politique mais Il peut être utilisé dans un but politique\": (\"Le voile islamique est la démonstrations d'un islam politique.\", \"Le voile islamique n'a pas de source dans l'islam politique mais Il peut être utilisé dans un but politique\", 'The Islamic veil is the demonstration of political Islam.', 'The Islamic veil has no source in political Islam, but can be used for a political purpose.', 'culture', 'facts'), 'Euh du coup je peux avoir la liste des autres type de voile?': ('', 'Euh du coup je peux avoir la liste des autres type de voile?', '', 'Can I have a list of other types of veils?', 'culture', 'question'), 'la démonstration ou les démonstrations il y a un s en trop et des lacunes en culture générale': ('', 'la démonstration ou les démonstrations il y a un s en trop et des lacunes en culture générale', '', 'the demonstrations demonstrations there are extras and gaps in general knowledge', 'culture', 'denouncing'), 'et le voile catholique?': ('', 'et le voile catholique?', '', 'and the Catholic veil?', 'culture', 'hypocrisy'), 'et le voile protestant?': ('', 'et le voile protestant?', '', 'and the Protestant veil?', 'culture', 'hypocrisy'), \"euh c'est quoi l'islam politique?pas le droit au copié collé Fhaine\": ('', \"euh c'est quoi l'islam politique?pas le droit au copié collé Fhaine\", '', 'uh What is political Islam? no right to copy and paste Fhaine', 'culture', 'humor'), 'Ya pas de \"s\" à démonstration!': ('', 'Ya pas de \"s\" à démonstration!', '', 'There is no \"s\" demonstration!', 'culture', ''), 'Islam politique ???? Association malfaitrice...': ('', 'Islam politique ???? Association malfaitrice...', '', 'Political Islam ???? Criminal association ...', 'culture', 'denouncing'), \"S'il nexistait pas, il faudrait .....\": ('', \"S'il nexistait pas, il faudrait .....\", '', 'If it did not exist, it would be necessary .....', 'culture', 'humor'), \"Parce que vous avez voulu politiser le voile de cette façon, le voile est en France depuis des siècles, un peu d'histoire vous réveillerait...\": ('', \"Parce que vous avez voulu politiser le voile de cette façon, le voile est en France depuis des siècles, un peu d'histoire vous réveillerait...\", '', 'Why do you want to politicize the veil in this way? the veil has been in France for centuries, a bit of history would help you', 'culture', 'facts / denouncing'), \"Le voile est un vêtement comme un autre, la laïcité n'impose aucune manière de s'habiller mais prône le respect de chacun et protège la liberté de chacun dans ce choix.\": ('', \"Le voile est un vêtement comme un autre, la laïcité n'impose aucune manière de s'habiller mais prône le respect de chacun et protège la liberté de chacun dans ce choix.\", '', \"The veil is a garment like any other, secularism does not impose any way of dressing, but preaches respect for everyone and protects everyone's freedom in this choice.\", 'culture', 'positive / facts'), \"As t'on déjà vu une femme voilé à l'Assemblée Nationale ?\": ('', \"As t'on déjà vu une femme voilé à l'Assemblée Nationale ?\", '', 'Have you ever seen a veiled woman in the National Assembly?', 'culture', 'question'), 'On parle des intentions de chacun ? Quelles sont les vôtres? Perso, je n\\'ai pas l\\'intention d\\'instaurer un \"califat\" en France, je d\\'autres choses à faire. #JePeuxPasJ\\'aiPiscine': ('', 'On parle des intentions de chacun ? Quelles sont les vôtres? Perso, je n\\'ai pas l\\'intention d\\'instaurer un \"califat\" en France, je d\\'autres choses à faire. #JePeuxPasJ\\'aiPiscine', '', 'Are we talking about everyone\\'s intentions? What are yours? Personally, I do not intend to establish a \"caliphate\" in France, I have other things to do. # JePeuxPasJ\\'aiPiscine', 'culture', 'humor / denouncing'), 'Avez-Vous demandé, au moins une fois, à une femme voilée, si elle a été obligé de porter le voile?': ('', 'Avez-Vous demandé, au moins une fois, à une femme voilée, si elle a été obligé de porter le voile?', '', 'Have you asked, at least once, a veiled woman, if she was forced to wear the veil?', 'women', 'question'), \"Il n'y a nul contrainte en islam, le port du voile par la femme est un choix personnel, et de foi, il n'est nul exigé par la famille ou le mari.\": ('', \"Il n'y a nul contrainte en islam, le port du voile par la femme est un choix personnel, et de foi, il n'est nul exigé par la famille ou le mari.\", '', 'There is no compulsion in Islam, the use of the veil by the woman is a personal choice and of faith, it is not required by the family or by the husband.', 'culture', 'facts'), \"Le voile est un choix personnel et religieux. Personnellement, je n'ai jamais vu un hijab faire campagne.\": ('', \"Le voile est un choix personnel et religieux. Personnellement, je n'ai jamais vu un hijab faire campagne.\", '', \"The veil is a personal and religious choice. Personally, I've never seen a hijab campaign.\", 'culture', 'facts'), 'Le voile est un choix personnel en réponse à une croyance religieuse.   Se demande-t-on si les bonnes soeurs se couvrent à des fins politiques?': ('', 'Le voile est un choix personnel en réponse à une croyance religieuse.   Se demande-t-on si les bonnes soeurs se couvrent à des fins politiques?', '', \"The veil is a personal choice in response to a religious belief. Why don't we wonder if the nuns are covering themselves for political purposes?\", 'culture', 'facts / hypocrisy'), \"De la même manière qu'un voile de mariée serait la démonstration d'un mariage politique...? Un peu de sérieux, voyons ! Votre tweet est la démonstration d'une connaissance limitée.\": ('', \"De la même manière qu'un voile de mariée serait la démonstration d'un mariage politique...? Un peu de sérieux, voyons ! Votre tweet est la démonstration d'une connaissance limitée.\", '', \"In the same way that a wedding veil would be the demonstration of a political marriage ...? A bit serious, don't you think? Your tweet is the demonstration of limited knowledge\", 'culture', 'denouncin / hypocrisy'), \"Pour plus de clarté, je reformule votre tweet : le voile est le vêtement d'une femme musulmane qui souhaite le porter.\": ('', \"Pour plus de clarté, je reformule votre tweet : le voile est le vêtement d'une femme musulmane qui souhaite le porter.\", '', \"For clarity, I'll reformulate your tweet: the veil is the dress of a Muslim woman who wants to wear it\", 'culture', 'facts'), \"C'est un signe religieux tout personne de fois est couverte aucun lien avec la politique\": ('', \"C'est un signe religieux tout personne de fois est couverte aucun lien avec la politique\", '', 'It is a religious sign, it has no connection with politic', 'culture', 'facts'), \"S'habiller est normes normal un peu plus si on Est religieux je ne vois pas de rapport avec la politiques\": ('', \"S'habiller est normes normal un peu plus si on Est religieux je ne vois pas de rapport avec la politiques\", '', 'Dress is normal standards a little more if it is religious I do not see any connection with politic.', 'culture', 'facts'), \"Pourquoi?? Et la kippa c'est politique\": ('', \"Pourquoi?? Et la kippa c'est politique\", '', 'Why ?? And is kippah politic?', 'culture', 'hypocrisy'), 'Quel parti?????': ('', 'Quel parti?????', '', 'Which party ?????', 'culture', 'humor / question'), 'Porté la kippa demonstrtion de judaïsme politique': ('', 'Porté la kippa demonstrtion de judaïsme politique', '', 'is kippah a demonstration of political jewish?', 'culture', 'hypocrisy'), 'Quelle parti? comment adhérer?': ('', 'Quelle parti? comment adhérer?', '', 'What party? how to join?', 'culture', 'humor'), \"Le voile n'est pas la démonstration de quoi que ce soit, une foi ne peut se démontrer, elle se ressent\": ('', \"Le voile n'est pas la démonstration de quoi que ce soit, une foi ne peut se démontrer, elle se ressent\", '', 'The veil is not demonstrating anything, faith can not demonstrate, she feels', 'culture', 'facts'), \"C'est quoi l'islam politique? vous avez 2 heures...\": ('', \"C'est quoi l'islam politique? vous avez 2 heures...\", '', 'What is political Islam? you have 2 hours ...', 'culture', 'question'), 'et votre tweet est la démonstration de votre islamophobie...': ('', 'et votre tweet est la démonstration de votre islamophobie...', '', 'and your tweet is the demonstration of your islamophobia ...', 'culture', 'denouncing'), \"Aucune personne ne mérite d'être discriminé quelque soit sa confession, son sexe ou autre. Merci\": ('Les femmes musulmanes se renferment avec leur voile, c’est normal qu’on les discrimine.', \"Aucune personne ne mérite d'être discriminé quelque soit sa confession, son sexe ou autre. Merci\", 'Muslim women are silent with their veil, it is normal that they are discriminated against.', 'Nobody deserves to be discriminated against, regardless of his confession, sex or otherwise. thank you', 'culture', 'facts / denouncing'), 'Les femmes musulmanes sont des citoyennes comme toutes le autres et en aucun cas celles-ci doivent!': ('', 'Les femmes musulmanes sont des citoyennes comme toutes le autres et en aucun cas celles-ci doivent!', '', \"Muslim women are citizens like the others and they shouldn't be discirminated against under no circumstances!\", 'culture', 'facts / denouncing'), \"Il ne vous est pas demander d'aimer les femmes musulmanes mais de les respecter et de ne pas les discriminer. Merci\": ('', \"Il ne vous est pas demander d'aimer les femmes musulmanes mais de les respecter et de ne pas les discriminer. Merci\", '', 'You are not asked to love Muslim women, but to respect them and not to discriminate against them. thank you', 'culture', 'facts / denouncing'), 'Les femmes voilées travaillent en tant que médecins, enseignantes, chercheuses, artistes...': ('', 'Les femmes voilées travaillent en tant que médecins, enseignantes, chercheuses, artistes...', '', 'Veiled women work as doctors, teachers, researchers, artists ...', 'culture', 'positive / facts'), \"C'est pas le voile qui renferment les femmes voilées mais des tweets comme ceux-ci.\": ('', \"C'est pas le voile qui renferment les femmes voilées mais des tweets comme ceux-ci.\", '', 'It is not the veil that subjects veiled women but tweets like these.', 'culture', 'denouncing'), 'Assez étonnant cette prétention à savoir ce que pensent les femmes musulmanes': ('', 'Assez étonnant cette prétention à savoir ce que pensent les femmes musulmanes', '', 'Surprisingly this statement of knowing what Muslim women think', 'culture', 'humor'), \"je vous rappelle que votre tweet constitue une incitation à la discrimination qui est condamné par la loi, merci de faire le nécessaire ou nous serons contraint d'utiliser tous moyens juridiques à votre encontre\": ('', \"je vous rappelle que votre tweet constitue une incitation à la discrimination qui est condamné par la loi, merci de faire le nécessaire ou nous serons contraint d'utiliser tous moyens juridiques à votre encontre\", '', 'I remind you that your tweet is an incitement to discrimination condemned by law, thanks if you do the necessary or we will be forced to use all legal means against you', 'culture', 'consequences'), 'et les personnes agoraphobes?': ('', 'et les personnes agoraphobes?', '', 'and agoraphobic people?', 'culture', 'humor'), \"d'un supposé comportement vous érigez une règle qui enfermera encore plus??\": ('', \"d'un supposé comportement vous érigez une règle qui enfermera encore plus??\", '', 'from a presumed behavior you erect a rule that will block them even more ??', 'culture', 'denouncing'), \"Le choix de la façon de s'habiller est une liberté personnelle et ne doit aucunement être source de discrimination\": ('', \"Le choix de la façon de s'habiller est une liberté personnelle et ne doit aucunement être source de discrimination\", '', 'The choice of how to dress is a personal freedom and should not be a source of discrimination.', 'culture', 'facts'), \"Tant qu'une personne respecte la loi, elle a le droit de se vêtir ou d'ailleurs de se dévêtir comme elle le veut\": ('', \"Tant qu'une personne respecte la loi, elle a le droit de se vêtir ou d'ailleurs de se dévêtir comme elle le veut\", '', 'As long as a person respects the law, he has the right to dress or undress in any way he wants', 'culture', 'facts'), 'La liberté de manifester sa religion est une liberté fondamentale garantie par la loi et ne doit pas donner lieu à une discrimination': ('', 'La liberté de manifester sa religion est une liberté fondamentale garantie par la loi et ne doit pas donner lieu à une discrimination', '', \"The freedom to express one's religion is a fundamental freedom guaranteed by law and must not give rise to discrimination\", 'culture', 'facts'), \"Ces femmes n'enfreignent pas la loi, et utilisent une liberté personnelle. Elles sont ouvertes à la société. Et il n'y a pas de raison ni de les enfermer, ni de les discriminer\": ('', \"Ces femmes n'enfreignent pas la loi, et utilisent une liberté personnelle. Elles sont ouvertes à la société. Et il n'y a pas de raison ni de les enfermer, ni de les discriminer\", '', 'These women do not break the law and have personal freedom. They are open to society. And there is no reason to block them or to discriminate them.', 'culture', 'facts'), \"Ces femmes respectent la loi et ne sont pas les seules à avoir une tenue vestimentaires particulières (c'est le cas d'autres comme les sœurs chrétiennes, certaines femmes juives, des hommes sighs, des groupes de jeunes,....). Aucune raison de les montrer du doigt, ni de les discriminer\": ('', \"Ces femmes respectent la loi et ne sont pas les seules à avoir une tenue vestimentaires particulières (c'est le cas d'autres comme les sœurs chrétiennes, certaines femmes juives, des hommes sighs, des groupes de jeunes,....). Aucune raison de les montrer du doigt, ni de les discriminer\", '', 'These women respect the law and are not the only ones to have a particular dress (this is the case of others like the Christian sisters, some Jewish women, sighs, youth groups, ....). No reason to point fingers or discriminate.', 'women', 'facts / hypocrisy'), 'Les femmes au foyer sont de toute religion.': ('Les femmes musulmanes sont toutes mères au foyer.', 'Les femmes au foyer sont de toute religion.', 'Muslim women are all mothers at home.', 'Housewives are of any religion.', 'women', 'facts'), 'Femmes au foyer est un choix et non lié a une religion.': ('', 'Femmes au foyer est un choix et non lié a une religion.', '', 'Housewives is a choice and not related to religion.', 'women', 'facts'), 'mères au foyer et une tache noble et demande beaucoup de travail et non du repos.': ('', 'mères au foyer et une tache noble et demande beaucoup de travail et non du repos.', '', 'Being a housewife is a noble task and requires a lot of work and little rest.', 'women', 'facts'), 'Beaucoup de femmes au foyer non pas le choix.': ('', 'Beaucoup de femmes au foyer non pas le choix.', '', 'Many housewives have no other choice.', 'women', 'facts'), 'Femmes au foyers et un statue a par entière.': ('', 'Femmes au foyers et un statue a par entière.', '', 'Housewife is a whole status.', 'women', 'facts'), \"C'est une thèse qui se contredit par la réalité, des femmes musulmanes sont au foyer et ailleurs.\": ('', \"C'est une thèse qui se contredit par la réalité, des femmes musulmanes sont au foyer et ailleurs.\", '', 'This is a thesis contradicted by the reality, Muslim women are at home and elsewhere', 'women', 'facts'), \"#islamophobie. C'est le climat d'intolérance qui pousse les femmes voilées à se réfugier à la maison.\": ('Les femmes voilées ne travaillent pas, sont enfermées à la maison.', \"#islamophobie. C'est le climat d'intolérance qui pousse les femmes voilées à se réfugier à la maison.\", 'The veiled women do not work, are locked up at home.', '#islamophobie. This is the climate of intolerance that pushes veiled women to take refuge at home.', 'women', 'denouncing'), 'Pour une devoir en 1ère pourriez vous me communiquer vos données avec les sources?merci bien à vous': ('', 'Pour une devoir en 1ère pourriez vous me communiquer vos données avec les sources?merci bien à vous', '', 'Could you give me your data with the sources? Thank you very much.', 'women', 'question'), \"Procédons simplement si c'était vrai,vous n'en verriez pas et cela ne serait pas un sujet\": ('', \"Procédons simplement si c'était vrai,vous n'en verriez pas et cela ne serait pas un sujet\", '', 'Assuming it was true, you would not see it and it would not be an argument', 'women', 'hypocrisy'), 'Vous pouvez leur transférer un article sur le télétravail?': ('', 'Vous pouvez leur transférer un article sur le télétravail?', '', 'You can transfer them an article on telework?', 'women', 'humor'), 'Seriez vous leur agent de liaison?': ('', 'Seriez vous leur agent de liaison?', '', 'Would you be their liaison?', 'women', 'humor'), \"C est mieux qu'un monastère!\": ('', \"C est mieux qu'un monastère!\", '', 'It is better than a monastery!', 'women', 'humor'), 'Elles ont été confinées par le gouvernement, bravo la liberté de la femme. ...': ('', 'Elles ont été confinées par le gouvernement, bravo la liberté de la femme. ...', '', 'They have been confined by the government, good boy, the freedom of women. ...', 'women', 'facts'), \"Les femmes voilées sont à la maison, non parcequ'elles sont enfermées, mais parce que le système fait tout pour les mettre à l'écart de la société\": ('', \"Les femmes voilées sont à la maison, non parcequ'elles sont enfermées, mais parce que le système fait tout pour les mettre à l'écart de la société\", '', 'Veiled women are at home, not because they are locked up, but because the system does everything to remove them from society.', 'women', 'facts'), 'Renseignez-vous : l\\'affaire \"Babilou\", pour ne citer qu\\'elle, concernait une directrice adjointe qui était voilée.': ('', 'Renseignez-vous : l\\'affaire \"Babilou\", pour ne citer qu\\'elle, concernait une directrice adjointe qui était voilée.', '', 'Inquire: the \"Babilou\" case, to name just one, was about a veiled assistant director.', 'women', 'facts'), \"Femmes au foyer c'est pas un gros mots!!\": ('', \"Femmes au foyer c'est pas un gros mots!!\", '', 'Housewives is not a big word !!', 'women', 'other'), 'Accepte moi avec mon foulard': ('', 'Accepte moi avec mon foulard', '', 'Accept me with my veil', 'women', 'other'), 'Autorisez les à travaillez avec le voile alors': ('', 'Autorisez les à travaillez avec le voile alors', '', 'Allow them to work with the veil then', 'women', 'hypocrisy'), \"Ne les empêcher pas de travailler et d'étudier alors\": ('', \"Ne les empêcher pas de travailler et d'étudier alors\", '', 'Do not stop them from working and studying then', 'women', 'hypocrisy'), \"Le femmes voilées sont très actives, dans l'associatif par exemple\": ('', \"Le femmes voilées sont très actives, dans l'associatif par exemple\", '', 'Veiled women are very active, for example in associations', 'women', 'facts'), \"Non, les femmes voilées ont comme toutes les autres femmes ont besoin d'opportunités en respectant leur religion.\": ('', \"Non, les femmes voilées ont comme toutes les autres femmes ont besoin d'opportunités en respectant leur religion.\", '', 'No, veiled women like all other women need opportunities while respecting their religion.', 'women', 'facts'), \"Le voile n'est pas une prison, et n'empêche en rien la femme d'avoir une activité professionnelle, associative, etc... L'islam encourage le travail.\": ('', \"Le voile n'est pas une prison, et n'empêche en rien la femme d'avoir une activité professionnelle, associative, etc... L'islam encourage le travail.\", '', 'The veil is not a prison, and does not prevent the woman from doing a professional associative activity, etc. ... Islam encourages work..', 'women', 'facts'), \"Le voile n'a pas pour but d'empêcher les femmes de travailler, qui plus est l'islam ne leur interdit pas d'avoir un emploi\": ('', \"Le voile n'a pas pour but d'empêcher les femmes de travailler, qui plus est l'islam ne leur interdit pas d'avoir un emploi\", '', 'The veil is not intended to prevent women from working, moreover Islam does not forbid them to have a job', 'women', 'facts'), \"Il n'y a pas d'obligation de porter le foulard. Libre à la personne de le porter ou pas\": ('Les femmes voilées sont soumises et obligées de porter le foulard.', \"Il n'y a pas d'obligation de porter le foulard. Libre à la personne de le porter ou pas\", 'Veiled women are subjected and forced to wear the veil.', 'It is not obligatory to wear the veil. You are free to wear it or not', 'women', 'facts'), \"Si vous avez des exemples auprès de votre entourage pour laquelle la personne a été obligée, conseillez à cette personne qu'elle peut porter plainte\": ('', \"Si vous avez des exemples auprès de votre entourage pour laquelle la personne a été obligée, conseillez à cette personne qu'elle peut porter plainte\", '', 'If you have any examples of people around that are obliged, advise that person that can complain', 'women', 'other'), 'Vous connaissez donc toutes les femmes voilées et le contexte dans lequel elles ont commencé à le mettre?je suis chercheur, je suis preneur': ('', 'Vous connaissez donc toutes les femmes voilées et le contexte dans lequel elles ont commencé à le mettre?je suis chercheur, je suis preneur', '', \"So you know all veiled women and the context in which they started to put it? I am a researcher, I'm interested\", 'women', 'question / humor'), \"une généralisation bien étrange, apparemment vous n'avez pas encore rencontré mon épouse\": ('', \"une généralisation bien étrange, apparemment vous n'avez pas encore rencontré mon épouse\", '', 'a very strange generalization, apparently you have not met my wife yet', 'women', 'affiliation'), \"avez vous oublié un point d'interrogation?\": ('', \"avez vous oublié un point d'interrogation?\", '', 'have you forgotten a question mark?', 'women', 'humor'), 'c\\'est évident si elles sont comme vous dites \"soumises\"': ('', 'c\\'est évident si elles sont comme vous dites \"soumises\"', '', 'it\\'s obvious if it is as you say \"subject\"', 'women', ''), 'je pointe une essentialisation et du sexisme né colonialiste': ('', 'je pointe une essentialisation et du sexisme né colonialiste', '', 'I point out an essentialization and neo-colonialist sexism', 'women', 'denouncing'), 'D autres sont bien soumis aux idioties': ('', 'D autres sont bien soumis aux idioties', '', 'Others are well subject to idiocy', 'women', 'denouncing / humor'), 'Il manque un complément verbal pour la structure grammaticale...': ('', 'Il manque un complément verbal pour la structure grammaticale...', '', 'A verbal complement is missing for the grammatical structure ...', 'women', 'other'), 'Que voulez vous , rien ne change dans nos monastères!': ('', 'Que voulez vous , rien ne change dans nos monastères!', '', 'What do you want, nothing changes in our monasteries!', 'women', 'hypocrisy'), 'De même que les policiers le sont, obligés de porter leurs casques!': ('', 'De même que les policiers le sont, obligés de porter leurs casques!', '', 'Just like the police, forced to wear the helmet!', 'women', 'humor'), 'Mieux vaut porter que déporté...': ('', 'Mieux vaut porter que déporté...', '', 'Better wear that deported ...', 'women', ''), 'Non, elles le portent en leur âme et conscience': ('', 'Non, elles le portent en leur âme et conscience', '', 'No, they carry it in their soul and in their conscience', 'women', 'facts'), \"Le voile n'est pas un signe de soumission à l'homme, c'est un libre choix\": ('', \"Le voile n'est pas un signe de soumission à l'homme, c'est un libre choix\", '', 'The veil is not a sign of submission to a man, it is a free choice', 'women', 'facts'), \"Qui vous l'a confirmé ? quelles sont vos sources ?\": ('', \"Qui vous l'a confirmé ? quelles sont vos sources ?\", '', 'Who confirmed it? what are your sources?', 'women', 'question'), \"Nous vivons dans un pays libre ou chacun s'habille comme bon lui semble\": ('', \"Nous vivons dans un pays libre ou chacun s'habille comme bon lui semble\", '', 'We live in a free country where everyone dresses up as they want', 'women', 'facts'), \"Pour certaines c'est vrai mais pas pour toutes. Une idée lumineuse : Demandez leur?\": ('', \"Pour certaines c'est vrai mais pas pour toutes. Une idée lumineuse : Demandez leur?\", '', 'For some it is true but not for everyone. A brilliant idea: ask them?', 'women', 'question / facts'), \"Et pourquoi ne pas penser qu'elles ont un libre arbitre et qu'elle peuvent choisir toutes seules? #AskHer #I'mWithHer\": ('', \"Et pourquoi ne pas penser qu'elles ont un libre arbitre et qu'elle peuvent choisir toutes seules? #AskHer #I'mWithHer\", '', \"And why not think they have a free will and can choose it by themselves? #AskHer # I'mWithHer\", 'women', 'hypocrisy'), 'Soumises ? A qui ? A quoi ? Où ? En France ? En Arabie Saoudite ? Bref, autant de questions auxquelles il faudrait répondre. Peut on en discuter ? #JeSuisMusulmane #DemandezMoi': ('', 'Soumises ? A qui ? A quoi ? Où ? En France ? En Arabie Saoudite ? Bref, autant de questions auxquelles il faudrait répondre. Peut on en discuter ? #JeSuisMusulmane #DemandezMoi', '', 'Subject? Whose ? What? Where ? In France ? In Saudi Arabia? In short, many questions to be answered. Can we talk? #JeSuisMusulmane #DemandezMoi', 'women', 'question'), \"Il n'y a nul contrainte en islam, le port du foulard est un choix personnel et de foi, non exigée par le mari ni la famille\": ('', \"Il n'y a nul contrainte en islam, le port du foulard est un choix personnel et de foi, non exigée par le mari ni la famille\", '', 'There is no compulsion in Islam, the use of the veil is a personal choice of faith, not required by the husband or the family', 'women', 'facts'), 'Nous évoluons dans un pays libre et laïc où chacun est libre de porter les vêtements et/ou signe religieux souhaités, y compris les femmes musulmanes.': ('Les femmes voilées sont soumises et obligées de porter le foulard.', 'Nous évoluons dans un pays libre et laïc où chacun est libre de porter les vêtements et/ou signe religieux souhaités, y compris les femmes musulmanes.', 'Veiled women are subjected and forced to wear the veil.', 'We live in a free and laic country where everyone is free to wear the desired clothes and/or religious symbols, including Muslim women.', 'oppression of women', 'facts'), 'Tout comme vous, les femmes voilées sont dotées du libre arbitre. Le port ou non du voile est une décision personnelle.': ('', 'Tout comme vous, les femmes voilées sont dotées du libre arbitre. Le port ou non du voile est une décision personnelle.', '', 'Just like you, veiled women are endowed with free will. Wearing the veil or not is a personal decision.', 'oppression of women', 'facts'), \"Les femmes voilées sont aussi soumises que votre tweet est intelligent. La différence, c'est qu'elles ont décidé de porter leur voile. A vous maintenant de décider d'être intelligent.\": ('', \"Les femmes voilées sont aussi soumises que votre tweet est intelligent. La différence, c'est qu'elles ont décidé de porter leur voile. A vous maintenant de décider d'être intelligent.\", '', 'Veiled women are as submissive as your tweet is smart. The difference is that they decided to wear their veils. Now you have to decide to be smart.', 'oppression of women', 'hypocrisy'), \"Non la femme musulman n'est oubliger de portée le foulard\": ('', \"Non la femme musulman n'est oubliger de portée le foulard\", '', 'No Muslim woman is obligated to wear the veil.', 'oppression of women', 'facts'), 'Le voile est mis selon sont niveau de fois': ('', 'Le voile est mis selon sont niveau de fois', '', 'The veil is put in base of the age of women', 'oppression of women', 'facts'), 'Le voile est mis pour se raproche de dieu et pour prier': ('', 'Le voile est mis pour se raproche de dieu et pour prier', '', 'The veil is put to approach God and pray', 'oppression of women', 'facts'), 'Il est mis dans toutes les religion pour etre en etat de prière': ('', 'Il est mis dans toutes les religion pour etre en etat de prière', '', 'It is put in every religion to be in a state of prayer', 'oppression of women', 'facts'), 'Oui il est oubligatoir pour prier car devant dieu il faut etre couvert': ('', 'Oui il est oubligatoir pour prier car devant dieu il faut etre couvert', '', 'Yes it is obligatory for praying, because in front of God you have to be covered.', 'oppression of women', 'facts'), 'Connais tu toutes les femmes voilées pour affirmer cela?': ('', 'Connais tu toutes les femmes voilées pour affirmer cela?', '', 'Do you know all the veiled women to say that?', 'oppression of women', 'hypocrisy'), 'En islam les femmes sont libres comme les autres': ('', 'En islam les femmes sont libres comme les autres', '', 'In Islam, women are free like the others.', 'oppression of women', 'facts'), 'Je ne pense pas que tu parler au nom des femmes voilées': ('', 'Je ne pense pas que tu parler au nom des femmes voilées', '', 'I do not think you speak representing the veiled women', 'oppression of women', 'hypocrisy'), \"Qui t'as nommer porte parole des femmes voilées pour parler en leurs noms?\": ('', \"Qui t'as nommer porte parole des femmes voilées pour parler en leurs noms?\", '', 'Who appointed you as spokesperson of the veiled women for speaking in their names?', 'oppression of women', 'denouncing'), \"Et tu penses qu'en les obligeant à la retirer tu leurs donnent plus de libertés?\": ('', \"Et tu penses qu'en les obligeant à la retirer tu leurs donnent plus de libertés?\", '', 'And you think that forcing them to withdraw their veil, you offer them more freedom?', 'oppression of women', 'hypocrisy'), 'Les hommes musulmans ne sont pas violent.': ('Les hommes musulmans sont violents, les femmes musulmanes sont soumises.', 'Les hommes musulmans ne sont pas violent.', 'Muslim men are violent, Muslim women are subjected.', 'Muslim men are not violent.', 'oppression of women', 'facts'), 'Les femmes musulmanes sont soumises a leur Dieu et non a leurs Hommes, comme vous l’êtes par votre lois.': ('', 'Les femmes musulmanes sont soumises a leur Dieu et non a leurs Hommes, comme vous l’êtes par votre lois.', '', 'Muslim women are subjected to their God and not to their men, so as you are subjected to your laws.', 'oppression of women', 'facts'), \"L'islam est une religion non violente.\": ('', \"L'islam est une religion non violente.\", '', 'Islam is a non-violent religion.', 'oppression of women', 'facts'), 'Les Musulman(e)s sont soumis a une religion, comme une personne peut l’être dans sa vie de tout les jours a ça démocratie ou autre.': ('', 'Les Musulman(e)s sont soumis a une religion, comme une personne peut l’être dans sa vie de tout les jours a ça démocratie ou autre.', '', 'The Muslims are subject to a religion, as a person can be in all his life to this democracy or whatever.', 'oppression of women', 'facts'), 'Pourquoi la soumission est elle mal vue quant elle concerne la religion.': ('', 'Pourquoi la soumission est elle mal vue quant elle concerne la religion.', '', 'Why is submission disapproved when it is related to religion?', 'oppression of women', 'question'), 'Existe il des statistiques concernant les auteurs des actes violents commis contre les femmes, et qui permettent de se prononcer ainsi.': ('', 'Existe il des statistiques concernant les auteurs des actes violents commis contre les femmes, et qui permettent de se prononcer ainsi.', '', 'Are there statistics on perpetrators of violent acts against women, that allow us to say that?', 'oppression of women', 'question'), \"#islamophobie. Les musulmans ne sont pas une masse homogène et la misanthropie n'est pas propre aux musulmans\": (\"Les musulmans détestent quiconque n'est pas musulman.\", \"#islamophobie. Les musulmans ne sont pas une masse homogène et la misanthropie n'est pas propre aux musulmans\", 'Muslims hate anyone who is not Muslim.', '#islamophobia. Muslims are not a homogeneous mass and misanthropy is not unique to Muslims.', 'oppression of women', 'facts'), \"Pourriez vous nous donner des preuves à l'appui ( questionnaires et méthodologies employées...)sources...\": ('', \"Pourriez vous nous donner des preuves à l'appui ( questionnaires et méthodologies employées...)sources...\", '', 'Could you give us some evidence to support (questionnaires and methodologies used ...) sources ...', 'oppression of women', 'question'), \"D'une part vous essentialiser et d'autre part vous voulez créer de toute pièce un climat hostile aux musulman-e-s rél-les ou supposé-es\": ('', \"D'une part vous essentialiser et d'autre part vous voulez créer de toute pièce un climat hostile aux musulman-e-s rél-les ou supposé-es\", '', 'Firstly, you are making yourself essential and secondly, you want to create from scratch a hostile climate to who is a Muslim.', 'oppression of women', 'denouncing'), \"Arrêtez un instant cette construction de l'ennemi permanent\": ('', \"Arrêtez un instant cette construction de l'ennemi permanent\", '', \"Stop for a moment, you're building a permanent enemy.\", 'oppression of women', 'denouncing'), \"Essaie de remplacer le mot musulman, c'est répété 2 fois, c est pas très joli....\": ('', \"Essaie de remplacer le mot musulman, c'est répété 2 fois, c est pas très joli....\", '', 'Try to change the word \"Muslim\", it is repeated twice and it isn\\'t so nice.', 'oppression of women', 'hypocrisy'), 'Si tu continues dans cette voie ça pourra être le cas.....alors agis intelligemment': ('', 'Si tu continues dans cette voie ça pourra être le cas.....alors agis intelligemment', '', 'It is not nice to continue in this path..... then act intelligently', 'oppression of women', 'denouncing'), \"L'islam veut dire la paix, que la paix soit avec vous mes frères et soeurs dans l'humanité\": ('', \"L'islam veut dire la paix, que la paix soit avec vous mes frères et soeurs dans l'humanité\", '', 'Islam means peace, let be peace with you, my brothers and sisters in humanity', 'oppression of women', 'positive'), \"Aimer son prochain est une des devises de l'islam, surtout les etrangers\": ('', \"Aimer son prochain est une des devises de l'islam, surtout les etrangers\", '', \"Loving one's fellow is one of the mottos of Islam, especially for the foreigners\", 'oppression of women', 'positive'), \"Le musulman reconait toutes les religions du livre et se doit d'aller vers l,autres\": ('', \"Le musulman reconait toutes les religions du livre et se doit d'aller vers l,autres\", '', 'The Muslim recognize all the religions of the book and has to get on well with the other', 'oppression of women', 'positive'), 'Le musulman est de toutes les couleurs': ('', 'Le musulman est de toutes les couleurs', '', 'A Muslim is made of all colors', 'oppression of women', 'positive'), 'Le musulman est tres sociable': ('', 'Le musulman est tres sociable', '', 'A Muslim is very sociable', 'oppression of women', 'positive'), \"C'est faux je ne vous déteste pas\": ('', \"C'est faux je ne vous déteste pas\", '', 'This is wrong, I do not hate you', 'oppression of women', 'positive'), \"Regarder autour de vous, et si vous êtes honnête vous verrez que c'est faux\": ('', \"Regarder autour de vous, et si vous êtes honnête vous verrez que c'est faux\", '', 'Look around you, and if you are honest you will see that this is wrong', 'oppression of women', 'hypocrisy'), \"C'est faux, la majorité des musulmans cohabitent en paix avec des non-musulmans.\": ('', \"C'est faux, la majorité des musulmans cohabitent en paix avec des non-musulmans.\", '', 'This is false, the majority of Muslims coexist peacefully with non-Muslims.', 'oppression of women', 'facts'), \"L'islam n'a pas de pays propre, car vous ne connaissais pas la définition de l'islam.\": ('Les musulmans devraient rentrer chez eux.', \"L'islam n'a pas de pays propre, car vous ne connaissais pas la définition de l'islam.\", 'Muslims should go home.', 'Islam has no own country, you say that because you do not know the definition of Islam.', 'generic', 'hypocrisy'), \"L'islam signifie, soumis a une Dieu unique, comment peut il avoir une terre ou son propre pays.\": ('', \"L'islam signifie, soumis a une Dieu unique, comment peut il avoir une terre ou son propre pays.\", '', 'Islam means, submitted to only one God, how can it be that it owns a piece of land or his own country.', 'generic', 'hypocrisy'), 'Les musulmans qui sont originaire du pays ou il ce trouve, dans quel pays doit il ce rendre ?': ('', 'Les musulmans qui sont originaire du pays ou il ce trouve, dans quel pays doit il ce rendre ?', '', 'Muslims who come to the country where you are, in which country they should return?', 'generic', 'question - hypocrisy'), 'Les musulmans sont libre de vivre ou ils veulent, comme tout être humain dans ce monde.': ('', 'Les musulmans sont libre de vivre ou ils veulent, comme tout être humain dans ce monde.', '', 'Muslims are free to live where they want, like any human being in this world.', 'generic', 'facts'), 'Les musulmans devraient vivre librement comme tout le monde.': ('', 'Les musulmans devraient vivre librement comme tout le monde.', '', 'Muslims should live freely as everyone else.', 'generic', 'facts'), \"A définir concrètement ou ils pourraient rentrer, et pour suivre la thèse comment faire avec ceux qui n'ont pas de liens familiaux avec les pays dits d'origine, et avec les reconvertis.\": ('', \"A définir concrètement ou ils pourraient rentrer, et pour suivre la thèse comment faire avec ceux qui n'ont pas de liens familiaux avec les pays dits d'origine, et avec les reconvertis.\", '', 'Can you define concretely, where they could return, and if you want to follow the theory, how to deal with those who have no family bonds with the countries of origin and with the reconverted ones?', 'generic', 'hypocrisy'), \"Et si on préconisait la même chose pour les français à l'étranger?\": ('Les musulmans doivent intégrer ou quitter la France!', \"Et si on préconisait la même chose pour les français à l'étranger?\", 'Muslims must integrate or leave France!', 'And if we say the same for the French overseas?', 'generic', 'hypocrisy'), 'La France nous a intégré depuis la méditerranée, c est plutôt à elle de......': ('', 'La France nous a intégré depuis la méditerranée, c est plutôt à elle de......', '', 'France has integrated us from the Mediterranean, it is rather for you to ......', 'generic', 'facts'), 'Les musulmans sont déjà intégrés dans la France. Ils conduisent nos bus, éduquent nos enfants et construisent la nation.': ('', 'Les musulmans sont déjà intégrés dans la France. Ils conduisent nos bus, éduquent nos enfants et construisent la nation.', '', 'Muslims are already integrated into France. They drive our buses, educate our children and build the nation.', 'generic', 'facts'), \"Les musulmans, sont des citoyens français, comme tout citoyen d'autres confessions religieuses, la religion ne peut remettre en cause la nationalité ou citoyenneté garantie par la République française\": ('', \"Les musulmans, sont des citoyens français, comme tout citoyen d'autres confessions religieuses, la religion ne peut remettre en cause la nationalité ou citoyenneté garantie par la République française\", '', \"Muslims are French citizens, like all citizens of other faiths, religion can't call into question the nationality or citizenship guaranteed by the French Republic\", 'generic', 'facts'), 'Les musulmans ne volent pas votre travail.': ('Les musulmans nous volent notre travail.', 'Les musulmans ne volent pas votre travail.', 'Muslims steal our work.', 'Muslims do not steal your work.', 'economic', 'facts'), 'Leur religion interdise le vole, comment peuvent ils voler votre travail.': ('', 'Leur religion interdise le vole, comment peuvent ils voler votre travail.', '', 'Their religion prohibits stealing, how can they steal your work?', 'economic', 'hypocrisy'), 'Les musulmans sont embauché par des employeur, comment peuvent ils le volé ?': ('', 'Les musulmans sont embauché par des employeur, comment peuvent ils le volé ?', '', 'Muslims are hired by employers, how can they steal jobs?', 'economic', 'hypocrisy'), 'Les musulmans postule pour un travail, il ne le vole pas.': ('', 'Les musulmans postule pour un travail, il ne le vole pas.', '', 'Muslims apply for a job, they do not steal it.', 'economic', 'facts'), \"Les musulmans sont des travailleurs et n'ont des voleurs\": ('', \"Les musulmans sont des travailleurs et n'ont des voleurs\", '', 'Muslims are workers and they are not thieves', 'economic', 'facts'), \"Le critère d'emploi qui compte pour n'importe quel patron est plutôt la compétence pour le poste à exercer et non la religion.\": ('', \"Le critère d'emploi qui compte pour n'importe quel patron est plutôt la compétence pour le poste à exercer et non la religion.\", '', 'The employment criterion that counts for any employer is rather the competence for the position to exercise and not religion.', 'economic', 'facts'), \"Ce discours cible les immigrants d'une manière générale , mais pour être accepté avec le climat de haaaine contre les musulmans , il a changé le nom de la cible. or parmi les immigrants orientaux à titre d'exemple, il y les chrétiens et les musulmans.\": ('', \"Ce discours cible les immigrants d'une manière générale , mais pour être accepté avec le climat de haaaine contre les musulmans , il a changé le nom de la cible. or parmi les immigrants orientaux à titre d'exemple, il y les chrétiens et les musulmans.\", '', 'This speech targets immigrants in general, but to be accepted with a climate of hatred against Muslims, he changed the name of the target. Among the Eastern immigrants, for example, there are Christians and Muslims.', 'economic', 'denouncing'), 'Dans les pays dits musulmans , il y a des milliers rapatriés non musulmans qui y travaillent sans entendre ce discours.': ('', 'Dans les pays dits musulmans , il y a des milliers rapatriés non musulmans qui y travaillent sans entendre ce discours.', '', 'In so-called Muslim countries, there are thousands of repatriated non-Muslims working there without saying a word.', 'economic', 'facts'), \"L'islam est une religion et les citoyens musulmans avant tout des citoyens français\": ('Les musulmans ont envahi nos pays.', \"L'islam est une religion et les citoyens musulmans avant tout des citoyens français\", 'Muslims invaded our countries.', 'Islam is a religion and Muslims citizens are mainly French citizens', 'islamization', 'facts'), 'Et les français profitent du système musulman : ex: allocation familiale. ...': ('Les musulmans profitent du système français.', 'Et les français profitent du système musulman : ex: allocation familiale. ...', 'Muslims benefit from the French system.', 'And the French benefit from the Muslim system: e.g. family allowance. ...', 'islamization', 'facts'), 'Faux : les musulmans profitent de tous les systèmes, c est fait pour ça un système. ...': ('', 'Faux : les musulmans profitent de tous les systèmes, c est fait pour ça un système. ...', '', 'False: Muslims take advantage of all the systems, this is why a system. ...', 'islamization', ''), 'Et vice versa....': ('', 'Et vice versa....', '', 'And vice-versa....', 'islamization', 'facts'), 'Faux : les musulmans profitent de tous les systèmes, c est fait pour....': ('', 'Faux : les musulmans profitent de tous les systèmes, c est fait pour....', '', 'False: Muslims take advantage of all systems, this is why ....', 'islamization', ''), 'Ah bon? C est contraire aux principes des musulmans de profiter d un échec!': ('', 'Ah bon? C est contraire aux principes des musulmans de profiter d un échec!', '', 'Really? It is contrary to the principles of Muslims to take advantage of a failure!', 'islamization', 'hypocrisy'), \"Les musulmans font partie intégrante du système Français, il n'en profite pas plus qu'il n'y contribue.\": ('', \"Les musulmans font partie intégrante du système Français, il n'en profite pas plus qu'il n'y contribue.\", '', \"Muslims are a part of the French system, they don't benefit from it more than they help it.\", 'islamization', 'facts'), \"Les musulmans participent activement à l'économie française et sont une richesse pour celui ci\": ('', \"Les musulmans participent activement à l'économie française et sont une richesse pour celui ci\", '', 'Muslims are actively involved in the French economy and are an enrichment to this one', 'islamization', 'facts'), \"Les citoyens d'une nation (de quelconque religion) ont vocation à jouir de leurs droits conférés par les impôts collectés.\": ('', \"Les citoyens d'une nation (de quelconque religion) ont vocation à jouir de leurs droits conférés par les impôts collectés.\", '', 'The citizens of a nation (of any religion) have the right to benefit from their rights conferred from the collected taxes.', 'islamization', 'facts'), \"Le système français permet aux personnes qui en ont besoin de bénéficier de certains avantages ou allocations spécifiques, déterminés par le législateur. Le critère religieux n'entre pas en considération dans l'attribution de ces aides.\": ('', \"Le système français permet aux personnes qui en ont besoin de bénéficier de certains avantages ou allocations spécifiques, déterminés par le législateur. Le critère religieux n'entre pas en considération dans l'attribution de ces aides.\", '', 'The French system allows people who need support to receive specific benefits or allowances determined by the legislature. The religious criterion is not considered in the allocation of this aid.', 'islamization', 'facts'), \"Chaque français, quel que soit sa religion, à des droits et devoirs, le système français ne profite pas qu'aux français de confession musulmane\": ('', \"Chaque français, quel que soit sa religion, à des droits et devoirs, le système français ne profite pas qu'aux français de confession musulmane\", '', 'Each French, whatever is his religion, owns rights and duties, the French system does not benefit only Muslim French', 'islamization', 'facts'), 'Les musulmans ne sont pas antisémites.': ('Les musulmans sont antisémites.', 'Les musulmans ne sont pas antisémites.', 'Muslims are anti-semitic.', 'Muslims are not anti-semitic.', 'generic', 'facts'), 'Les musulmans condamne l’antisémitisme.': ('', 'Les musulmans condamne l’antisémitisme.', '', 'Muslims condemn anti-semitism.', 'generic', 'facts'), \"les actes antisémites connus dans l'histoire ont été commis par des européens non musulmans.\": ('', \"les actes antisémites connus dans l'histoire ont été commis par des européens non musulmans.\", '', 'known anti-semitic acts in history were committed by non-Muslim Europeans.', 'generic', 'facts'), 'Pendant la période Nazie, les musulmans ont volontairement protégés les juifs.': ('', 'Pendant la période Nazie, les musulmans ont volontairement protégés les juifs.', '', 'During the Nazi period, Muslims have voluntarily protected the Jews.', 'generic', 'facts'), \"Les musulmans ne sont pas faibles d'esprit.\": ('Les musulmans sont faibles d’esprit.', \"Les musulmans ne sont pas faibles d'esprit.\", 'Muslims are weak-minded.', 'Muslims are not weak-minded.', 'generic', 'facts'), \"L'islam est une religion qui appelle a raisonner.\": ('', \"L'islam est une religion qui appelle a raisonner.\", '', 'Islam is a religion that calls to reason.', 'generic', 'facts'), '#islamophobie. Vous mélangez les termes comme Salafisme (doctrine religieuse), Fondamentalisme (positionnement dans le débat), Islamisme (abstrait), et Terrorisme (action violent).': ('Les musulmans sont tous des terroristes fondamentalistes islamistes salafistes.', '#islamophobie. Vous mélangez les termes comme Salafisme (doctrine religieuse), Fondamentalisme (positionnement dans le débat), Islamisme (abstrait), et Terrorisme (action violent).', 'Muslims are all Salafist Islamist fundamentalist terrorists.', '#islamophobia. You mix terms like Salafism (religious doctrine), Fundamentalism (positioning in the debate), Islam (abstract), and terrorism (violent action).', 'terrorism', 'hypocrisy'), \"Pourriez vous m'éclairer sur les définitions suivantes: fondamentaliste/islamiste et salafiste\": ('', \"Pourriez vous m'éclairer sur les définitions suivantes: fondamentaliste/islamiste et salafiste\", '', 'Could you enlighten me on the following definitions: fundamentalist / Islamist and Salafist', 'terrorism', 'hypocrisy'), \"Je consent que c'est de notre faute que vous ayez un manque total de culture sur l'ISLAM, je vous convie autour d'un thé pour quelques éclaircissements\": ('', \"Je consent que c'est de notre faute que vous ayez un manque total de culture sur l'ISLAM, je vous convie autour d'un thé pour quelques éclaircissements\", '', 'I agree that it is our fault if you have a total lack of culture on Islam, I invite you to drink a tea with me for some clarifications', 'terrorism', ''), 'Je vous invite à débrancher votre tv et à vous rendre à une mosquée pour rencontrer,échanger et apprendre': ('', 'Je vous invite à débrancher votre tv et à vous rendre à une mosquée pour rencontrer,échanger et apprendre', '', 'I invite you to unplug your TV and go to a mosque to meet, exchange and learn', 'terrorism', ''), \"vous faites des amalgames et utiliser des mots qui n'ont pas de sens,je peux vous convier à en discuter pour avoir des définition précise\": ('', \"vous faites des amalgames et utiliser des mots qui n'ont pas de sens,je peux vous convier à en discuter pour avoir des définition précise\", '', 'You mix together definitions and you use words that have no meaning, I can invite you to talk about it to have a precise definition', 'terrorism', 'hypocrisy'), \"Votre discours n'aide malheureusement pas à combattre le vrai terrorisme\": ('', \"Votre discours n'aide malheureusement pas à combattre le vrai terrorisme\", '', 'Your speech, unfortunately, does not help to fight real terrorism', 'terrorism', 'denouncing'), 'Affirmation tres recherchée, tu peux mieux faire....': ('', 'Affirmation tres recherchée, tu peux mieux faire....', '', 'A very refined affirmation, you can do better ....', 'terrorism', 'humor'), 'Tu dois avoir un vocabulaire limité. ...': ('', 'Tu dois avoir un vocabulaire limité. ...', '', 'You must have a limited vocabulary. ...', 'terrorism', 'humor'), \"Les pauvres, voilà ce qui arrive après tant d années de colonisation, l'élève a dépassé le maître!\": ('', \"Les pauvres, voilà ce qui arrive après tant d années de colonisation, l'élève a dépassé le maître!\", '', \"Oh poor, that's what happens after so many years of colonization, the student surpassed the master!\", 'terrorism', 'humor'), \"Il y a trop de -istes dans votre tweet. C'est le nouveau vire langue des identitaires ?\": ('', \"Il y a trop de -istes dans votre tweet. C'est le nouveau vire langue des identitaires ?\", '', 'There are too many -ist in your tweet. This is the new language of identity?', 'terrorism', 'humor'), 'Vous avez oublié djihadiste, pongiste, vélociste, Salakis... Au bon lait de Brebis!': ('', 'Vous avez oublié djihadiste, pongiste, vélociste, Salakis... Au bon lait de Brebis!', '', 'You forgot jihadist, table tennis players, sprinter, Salakist ... In good milk Sheep!', 'terrorism', 'humor'), 'Autant de mots décrivant votre manque de personnalité. Jolie copier-coller tiré des logorrhées de pseudo experts en terrorisme.': ('', 'Autant de mots décrivant votre manque de personnalité. Jolie copier-coller tiré des logorrhées de pseudo experts en terrorisme.', '', 'So many words describing your lack of personality. Pretty copy and paste all over the place of long-winded pseudo-experts in terrorism.', 'terrorism', 'denouncing'), 'Et cyclistes': ('', 'Et cyclistes', '', 'and cyclists', 'terrorism', 'humor'), 'Super tant mieux super connaissance': ('', 'Super tant mieux super connaissance', '', 'Super duper knowledge', 'terrorism', 'humor'), \"Et t'est jaloux\": ('', \"Et t'est jaloux\", '', 'And you are jealous', 'terrorism', 'humor'), 'Incollable': ('', 'Incollable', '', 'unbeatable', 'terrorism', 'humor'), 'De quel université ?': ('', 'De quel université ?', '', 'From which university?', 'terrorism', 'humor'), 'Connaissez vous d\\'autres mots en \"iste\" pour 5pts': ('', 'Connaissez vous d\\'autres mots en \"iste\" pour 5pts', '', 'Do you know other words that end in \"ist\" for 5pts?', 'terrorism', 'humor'), 'vous êtes pessimISTE': ('', 'vous êtes pessimISTE', '', 'you are a pessimIST', 'terrorism', 'humor'), 'Les musulmans respectent les lois et contrairement à vous respectent les autres dans leurs diversité': ('', 'Les musulmans respectent les lois et contrairement à vous respectent les autres dans leurs diversité', '', 'Muslims respect the laws and, conversely from you, they respect others in their diversity', 'terrorism', 'facts - denouncing'), \"Si cela vous plait... Etes vous sûr de ne rien avoir oublié ? Si peut être l'amalgame\": ('', \"Si cela vous plait... Etes vous sûr de ne rien avoir oublié ? Si peut être l'amalgame\", '', \"If you like it ... Sure you haven't forgotten anything? If it can be, mix more.\", 'terrorism', 'humor - hypocrisy'), 'Un musulman peut il porter autant de casquette ? Que fait il le reste de son temps ? Ce musulman doit être diplômiste en polytechnique !!!': ('', 'Un musulman peut il porter autant de casquette ? Que fait il le reste de son temps ? Ce musulman doit être diplômiste en polytechnique !!!', '', 'A Muslim can have so many definitions? What does he in the rest of his free time? This Muslim must hold polytechnic degrees !!!', 'terrorism', 'humor'), \"Discours de haine. Pas d'amalgames. Le terrorisme n'est pas lié à une religion ou à une race\": ('Les musulmans sont tous des terroristes.', \"Discours de haine. Pas d'amalgames. Le terrorisme n'est pas lié à une religion ou à une race\", 'Muslims are all terrorists.', 'Hate speech. No generalizations, please. Terrorism is not linked to any religion or race', 'terrorism', 'denouncing - facts'), 'Mais qui sont vraiment tous ces Musulmans à travers le monde?': ('', 'Mais qui sont vraiment tous ces Musulmans à travers le monde?', '', 'But who really are all this Muslims all over the world?', 'terrorism', 'question'), 'ah mince ils sont tous pareils?': ('', 'ah mince ils sont tous pareils?', '', 'ah, are they all the same?', 'terrorism', 'hypocrisy'), \"et l'inverse?car je regarde un livre d'histoire de 3ème... et c'est gênant pour vous\": ('', \"et l'inverse?car je regarde un livre d'histoire de 3ème... et c'est gênant pour vous\", '', \"And the opposite? Because I'm looking at a history book of the third grade ... and it's embarrassing for you\", 'terrorism', 'humor - denouncing'), \"Au niveau statistique c'est faux, souhaitez vous les sources?\": ('', \"Au niveau statistique c'est faux, souhaitez vous les sources?\", '', \"In terms of statistics, it's wrong, you want sources?\", 'terrorism', 'facts'), 'Pour un devoir en 1ère ES pouvez vous nous donner vos sources chiffrées?': ('', 'Pour un devoir en 1ère ES pouvez vous nous donner vos sources chiffrées?', '', 'For a task of the first grade can you give us your encrypted sources?', 'terrorism', 'question - humor'), 'TU VEUX DIRE \" TERROIRISTES\"?': ('', 'TU VEUX DIRE \" TERROIRISTES\"?', '', 'DO YOU INTEND \"TERRORISTS\"?', 'terrorism', 'question'), 'Et vous vous êtes .....tous des.....': ('', 'Et vous vous êtes .....tous des.....', '', 'And you are..... all .....', 'terrorism', ''), 'Souligne le verbe, le sujet et supprime le complément déplaçable, relis la phrase...': ('', 'Souligne le verbe, le sujet et supprime le complément déplaçable, relis la phrase...', '', 'Emphasize the verb, subject and remove the movable complement, reread the sentence ...', 'terrorism', 'other'), 'Environ 6 Millions de musulmans citoyens en France contre une dizaine de personnes \"terroriste\" vous permet de tremper tout le monde dans le même bain ? Belle Réflexion !': ('', 'Environ 6 Millions de musulmans citoyens en France contre une dizaine de personnes \"terroriste\" vous permet de tremper tout le monde dans le même bain ? Belle Réflexion !', '', 'About 6 million Muslim citizens in France against a dozen of \"terrorist\" people allows you to put everyone on the same boat? Beautiful reflection!', 'terrorism', 'denouncing'), 'Si une minorité de \"musulmans\" vous permet de dire que TOUS les musulmans sont des terroristes alors si vous avez un neurone défectueux dans votre cerveaux, on en déduis donc d\\'après votre logique que vous êtes complètement cinglés !': ('', 'Si une minorité de \"musulmans\" vous permet de dire que TOUS les musulmans sont des terroristes alors si vous avez un neurone défectueux dans votre cerveaux, on en déduis donc d\\'après votre logique que vous êtes complètement cinglés !', '', 'If a minority of \"Muslims\" allows you to say that ALL Muslims are terrorists, then if you have a defective neuron in your brain, so we deduce from your logic that you are completely crazy!', 'terrorism', 'negative - denouncing'), \"NON, PAS MOI ! Sérieux, moi j'ai rien fais et la plus part des gens qui sont des 'terroristes' ne sont pas des musulmans ! Plus sérieusement, il y des études sur ça ! Check it out !\": ('', \"NON, PAS MOI ! Sérieux, moi j'ai rien fais et la plus part des gens qui sont des 'terroristes' ne sont pas des musulmans ! Plus sérieusement, il y des études sur ça ! Check it out !\", '', \"NO, NOT ME! Seriously, I haven't done anything and most of the people who are 'terrorists' are not Muslims! More seriously, there are studies that say that! Check it out!\", 'terrorism', 'facts - denouncing'), 'NON': ('', 'NON', '', 'NO', 'terrorism', 'other'), \"L'Islamophobie n'est pas une opinion, c'est un délit.\": ('', \"L'Islamophobie n'est pas une opinion, c'est un délit.\", '', 'Islamophobia is not an opinion, it is a crime.', 'terrorism', 'facts - denouncing'), \"Islam signifie Paix, il n'a jamais prôné la violence, mais l'amour, que la paix soit avec vous mes frères et soeurs dans l'humanité\": ('', \"Islam signifie Paix, il n'a jamais prôné la violence, mais l'amour, que la paix soit avec vous mes frères et soeurs dans l'humanité\", '', 'Islam means peace, it has never advocated violence, but love, let be peace with you, my brothers and sisters in humanity', 'terrorism', 'positive'), \"En considérant qu'il y aurait 6 millions de musulmans en France, vous insinuez qu'il y aurait 6 millions de terroristes en France?! Un conseil... Ne sortez plus de chez vous!\": ('', \"En considérant qu'il y aurait 6 millions de musulmans en France, vous insinuez qu'il y aurait 6 millions de terroristes en France?! Un conseil... Ne sortez plus de chez vous!\", '', 'Considering that there would be 6 million Muslims in France, you are implying that there would be 6 million terrorists in France ?! A tip ... Do not go out of your home!', 'terrorism', 'hypocrisy - humor'), \"Ce type d'affirmation catégorise une population entière sans fondement aucun.\": ('', \"Ce type d'affirmation catégorise une population entière sans fondement aucun.\", '', 'This type of statement categorizes an entire population without any basis.', 'terrorism', 'denouncing'), \"L'abus des médias de masse nuit gravement aux capacités de discernement. Si les symptômes persistent, consultez un psychologue. Vous êtes très probablement devenu paranoïaque.\": ('', \"L'abus des médias de masse nuit gravement aux capacités de discernement. Si les symptômes persistent, consultez un psychologue. Vous êtes très probablement devenu paranoïaque.\", '', 'The abuse of the mass media seriously affects the capacity for discernment. If the symptoms persist, consult a psychologist. Most likely you becomed paranoid.', 'terrorism', 'facts - humor'), 'Tout les français sont pas de ivrognes': ('', 'Tout les français sont pas de ivrognes', '', 'All the French are no drunks.', 'terrorism', 'other'), 'Les musulman sont des être humains qui croient en dieu': ('', 'Les musulman sont des être humains qui croient en dieu', '', 'Muslims are human beings who believe in God.', 'terrorism', 'facts'), 'Non heureusement': ('', 'Non heureusement', '', 'Fortunately not', 'terrorism', 'other'), \"Non c'est un Préjugés depuis les attentats\": ('', \"Non c'est un Préjugés depuis les attentats\", '', 'No this is a prejudice born after the attacks', 'terrorism', 'facts - denouncing'), 'Vue le nombre de musulman dans le monde le monde j,espère que non': ('', 'Vue le nombre de musulman dans le monde le monde j,espère que non', '', 'View the number of Muslims in the world, I hope not', 'terrorism', 'hypocrisy'), 'Tu connais tout les musulmans, ça doit en faire du monde....': ('', 'Tu connais tout les musulmans, ça doit en faire du monde....', '', 'Do you know all the Muslims, who live in the world? ....', 'terrorism', 'hypocrisy'), \"Quelles sont vos références en terrorisme? attention islamophobe n'est pas une référence.\": ('', \"Quelles sont vos références en terrorisme? attention islamophobe n'est pas une référence.\", '', 'What are your references in terrorism? Attention, Islamophobia is not a reference.', 'terrorism', 'hypocrisy - denouncing'), \"L'islam est une religion de paix n'en déplaise aux terroristes\": ('', \"L'islam est une religion de paix n'en déplaise aux terroristes\", '', 'Islam is a religion of peace with due respect to...', 'terrorism', ''), 'Vous êtes trop intelligent pour croire ce que vous tweeter...': ('', 'Vous êtes trop intelligent pour croire ce que vous tweeter...', '', 'You are too smart to believe in what you tweet ...', 'terrorism', 'other'), 'Non les personnes de confession musulmanes sont aussi différents que toutes les autres personnes.': ('Les musulmans sont tous pareils.', 'Non les personnes de confession musulmanes sont aussi différents que toutes les autres personnes.', 'Muslims are all the same.', 'No people with Muslim faith are as diverse as everyone else.', 'generic', 'facts'), 'Non Monsieur/ Madame Les musulmans sont aussi différents que les autres citoyens.': ('', 'Non Monsieur/ Madame Les musulmans sont aussi différents que les autres citoyens.', '', 'No Sir / Madam Muslims are as diverse as other citizens.', 'generic', 'facts'), \"Gentils? c'est gentil mais vous savez il y a un peu de tout\": ('', \"Gentils? c'est gentil mais vous savez il y a un peu de tout\", '', \"Friendly? it's nice but you know there is a bit of everything\", 'generic', 'humor'), 'Tous les hommes sont pareils dans leur humanité ! Soyez un peu sérieux': ('', 'Tous les hommes sont pareils dans leur humanité ! Soyez un peu sérieux', '', 'All men are alike in their humanity! Be a little serious', 'generic', 'denouncing - facts'), 'Vous avez les preuves ?!': ('', 'Vous avez les preuves ?!', '', 'Do you have proof?!', 'generic', 'question'), 'Sérieux ?': ('', 'Sérieux ?', '', 'Are you serious?', 'generic', 'denouncing'), 'Ah bon ? Soyez crédible': ('', 'Ah bon ? Soyez crédible', '', 'Really? Be credible', 'generic', 'denouncing'), \"C'est la phrase intelligente du jour ! Soyons sérieux\": ('', \"C'est la phrase intelligente du jour ! Soyons sérieux\", '', 'It is the intelligent sentence of the day! Be serious', 'generic', 'humor - denouncing'), 'Les musulmans ne sont pas violents, si certaines personnes dérapent, cela ne veut surtout pas dire que tous les musulmans sont violents': ('Les musulmans sont tous violents.', 'Les musulmans ne sont pas violents, si certaines personnes dérapent, cela ne veut surtout pas dire que tous les musulmans sont violents', 'Muslims are all violent.', 'Muslims are not violent, if some people get out of hand, it does not particularly mean that all Muslims are violent', 'crimes', 'facts'), \"Les musulmans n'impose rien.\": ('Les musulmans veulent imposer la sharia en Europe.', \"Les musulmans n'impose rien.\", 'Muslims want to impose Sharia law in Europe.', 'Muslims do not impose anything.', 'islamization', 'facts'), \"Les musulmans n'impose pas la sharia, ils applique les lois Européens dans leurs pratique.\": ('', \"Les musulmans n'impose pas la sharia, ils applique les lois Européens dans leurs pratique.\", '', 'Muslims do not impose sharia, they apply European laws in their practice.', 'islamization', 'facts'), 'Pas de musulmanie. La majorité des musulmans en France sont français et républicains': ('Musulmans: retournez dans votre pays.', 'Pas de musulmanie. La majorité des musulmans en France sont français et républicains', 'Muslims return to your country.', 'No Muslimstan. The majority of Muslims in France are French and Republicans', 'generic', 'humor'), 'La musulmanie?': ('', 'La musulmanie?', '', 'The Muslimstan?', 'generic', 'humor'), 'Lesquels?': ('', 'Lesquels?', '', 'Which of them?', 'generic', 'question'), 'Je suis flatté que ma ville de l’Essonne soit considéré comme un pays': ('', 'Je suis flatté que ma ville de l’Essonne soit considéré comme un pays', '', \"I'm flattered that my city of Essonne is considered a département\", 'generic', 'other'), \"Donc vous partez du postulat qu'ils viennent tous d'un seul pays\": ('', \"Donc vous partez du postulat qu'ils viennent tous d'un seul pays\", '', 'So we start with the premise that they all come from a single country', 'generic', 'hypocrisy'), 'Lequel?': ('', 'Lequel?', '', 'Which?', 'generic', 'question'), 'Etre musulman est une spiritualite, l esprit est omniprésent. ..': ('', 'Etre musulman est une spiritualite, l esprit est omniprésent. ..', '', 'Being Muslim is a spirituality, the spirit is omnipresent. ..', 'generic', 'facts'), \"Notre pays c'est la France ! C'est ici que nous sommes nés, c'est ici que nous avons grandi, c'est ici que nous payons nos impôts et c'est ici que nous mourrons.\": ('', \"Notre pays c'est la France ! C'est ici que nous sommes nés, c'est ici que nous avons grandi, c'est ici que nous payons nos impôts et c'est ici que nous mourrons.\", '', \"Our country is France! It's here where we born, it's here where we grew up, it's here where we pay our taxes, and it's here where we die.\", 'generic', 'facts'), 'De quel Pays parlez-vous ? Où souhaitez-vous les déporter ? En Allemagne ? ou peut être à Drancy ? A vous lire...': ('', 'De quel Pays parlez-vous ? Où souhaitez-vous les déporter ? En Allemagne ? ou peut être à Drancy ? A vous lire...', '', 'What country are you talking about? Where do you want to deport them? In Germany ? or maybe in Drancy? To read to you...', 'generic', 'denouncing - hypocrisy'), \"C'est où la Musulmanie ? La plus proche ambassade ?\": ('', \"C'est où la Musulmanie ? La plus proche ambassade ?\", '', 'Where is the Muslimstan? The nearest embassy?', 'generic', 'humor'), \"Euh, comment vous expliquer ? Dans votre injonction il y a un mélange entre le concept de nationalité et le concept de religion. L'Islam est ma religion et la France est mon Pays. #DealWithIt\": ('', \"Euh, comment vous expliquer ? Dans votre injonction il y a un mélange entre le concept de nationalité et le concept de religion. L'Islam est ma religion et la France est mon Pays. #DealWithIt\", '', 'Uh, how do you explain that? In your statement there is a mixture between the concept of citizenship and the concept of religion. Islam is my religion and France is my country. #DealWithIt', 'generic', 'hypocrisy - affiliation'), \"Je suis française, je ne suis jamais sentie aussi française qu'en suivant l'islam\": ('', \"Je suis française, je ne suis jamais sentie aussi française qu'en suivant l'islam\", '', 'I am French, I have never felt that French as Islam', 'generic', 'other'), \"Je suis française, j'aime ma France Liberté Égalité Fraternité, malheureusement il n'y a plus beaucoup de français depuis bien longtemps, ils ont amputé ses valeurs si precieuses.\": ('', \"Je suis française, j'aime ma France Liberté Égalité Fraternité, malheureusement il n'y a plus beaucoup de français depuis bien longtemps, ils ont amputé ses valeurs si precieuses.\", '', 'I am French, I love my France: Liberty, Equality, Fraternity. Unfortunately there are no longer many French spirit since long ago, they amputated his so precious values.', 'generic', 'facts - denouncing'), \"Je suis née en France, de parents Français, de grand-parents Français, d'arrière grands-parents Français... Je retourne où? En Gaulle?\": ('', \"Je suis née en France, de parents Français, de grand-parents Français, d'arrière grands-parents Français... Je retourne où? En Gaulle?\", '', \"I was born in France from French parents, grandparents and great-grandparents ... I'm going back to where? In Gaulle?\", 'generic', 'hypocrisy'), \"Vous ne le savez peut-être pas mais l'islam est une religion, pas une nationalité.\": ('', \"Vous ne le savez peut-être pas mais l'islam est une religion, pas une nationalité.\", '', 'You do not know maybe, but Islam is a religion, not a nationality.', 'generic', 'facts'), \"Malheureusement, la Musulmanie n'existe pas. Les religions/ croyances/ philosophies/ systèmes de pensée transcendent les frontières géographiques et n'admettent pas de limites, sauf celles que l'homme se fixe lui-même... Jésus est bien né à Nazareth. Est-ce pour autant que Chrétiens et Juifs devraient s'y installer...? Un peu de sérieux...\": ('', \"Malheureusement, la Musulmanie n'existe pas. Les religions/ croyances/ philosophies/ systèmes de pensée transcendent les frontières géographiques et n'admettent pas de limites, sauf celles que l'homme se fixe lui-même... Jésus est bien né à Nazareth. Est-ce pour autant que Chrétiens et Juifs devraient s'y installer...? Un peu de sérieux...\", '', 'Unfortunately, Muslimstan does not exist. Religions/beliefs/philosophies/systems thinking transcend geographic boundaries and admit no limits except those which man attaches himself ... Jesus is born in Nazareth. For this reason, Christians and Jews should settle there ...? Get serious ...', 'generic', 'hypocrisy - facts - denouncing'), \"Origine ethnique et appartenance religieuse ne sont pas superposables, un même pays pouvant compter des personnes d'obédiences différentes. C'est aussi ce qui fait la richesse de notre douce France.\": ('', \"Origine ethnique et appartenance religieuse ne sont pas superposables, un même pays pouvant compter des personnes d'obédiences différentes. C'est aussi ce qui fait la richesse de notre douce France.\", '', 'Ethnicity and religion are not identical, the same country can count people of different beliefs. This is also what makes our sweet France rich.', 'generic', 'facts'), \"Ma place et mon monde c'est la planète terre\": ('', \"Ma place et mon monde c'est la planète terre\", '', 'My place and my world is the planet Earth', 'generic', 'facts'), \"Mon pays c'est la France\": ('', \"Mon pays c'est la France\", '', 'My country is France', 'generic', 'facts'), 'Pourquoi ? Tu seras plus riche ou plus heureuse': ('', 'Pourquoi ? Tu seras plus riche ou plus heureuse', '', 'Why? Will you be richer or happier?', 'generic', 'hypocrisy'), \"Non je peu pas car je suis un bounti arabe a l'extérieur et française a l'interieur\": ('', \"Non je peu pas car je suis un bounti arabe a l'extérieur et française a l'interieur\", '', \"No I just can't, because I am a good Arab, and a French inside\", 'generic', 'other'), 'Vive la France mon beau pays': ('', 'Vive la France mon beau pays', '', 'Long live to France, my beautiful country', 'generic', 'other'), \"J'y suis\": ('', \"J'y suis\", '', \"I'm there\", 'generic', 'other'), 'Pour y retourner ,il va me falloir un aller-retour pour la France': ('', 'Pour y retourner ,il va me falloir un aller-retour pour la France', '', \"To return, I'll need a return ticket for France\", 'generic', 'other'), \"La musulmanie n'existe pas\": ('', \"La musulmanie n'existe pas\", '', 'The Muslimstan does not exist', 'generic', 'humor'), \"La diversité est une richesse, n'essayer pas d'appauvrir la France!\": ('', \"La diversité est une richesse, n'essayer pas d'appauvrir la France!\", '', 'Diversity is an enrichment, do not try to impoverish France!', 'generic', 'facts'), \"#islamophobie. Les problèmes qui viennent en priorité dans le quotidien des français sont l'emploi, le pouvoir d'achat pas le communautarisme\": ('Nous voyons de plus en plus un problème musulman.', \"#islamophobie. Les problèmes qui viennent en priorité dans le quotidien des français sont l'emploi, le pouvoir d'achat pas le communautarisme\", 'We see more and more a Muslim problem.', '#islamophobia. The problems that come as a priority in the lives of French are employment and the purchasing power, not the communitarianism', 'islamization', 'facts'), \"je peux vous renvoyez à l'ouvrage : Elites françaises et construction du problème musulman de Julien beaugé et abdellali Hajjat\": ('', \"je peux vous renvoyez à l'ouvrage : Elites françaises et construction du problème musulman de Julien beaugé et abdellali Hajjat\", '', 'I can suggest you a book: \"French Elite and construction of the Muslim problem\" by Julien Beaugé and Abdellali Hajjat', 'islamization', 'facts'), 'cette essentialisation et criminalisation fait le jeu des ennemis de la démocratie': ('', 'cette essentialisation et criminalisation fait le jeu des ennemis de la démocratie', '', 'This essentialization and criminalization is the game of the enemies of democracy', 'islamization', 'facts'), \"Je vous traduis: les musulmans ne souhaitent plus être discriminés et les boucs émissaires de tous les maux de la société, ils n'ont pas le droit\": ('', \"Je vous traduis: les musulmans ne souhaitent plus être discriminés et les boucs émissaires de tous les maux de la société, ils n'ont pas le droit\", '', \"I translate you: Muslims don't want to be discriminated and be the scapegoats for all the problems of society, they do not have the right\", 'islamization', 'affiliation - denouncing'), \"cela renvoi directement au traitement des populations musulmanes ou supposées comme telle, les cumuls des discriminations,les injonctions permanentes et la suspicion quotidienne, cessons d'inverser le prisme\": ('', \"cela renvoi directement au traitement des populations musulmanes ou supposées comme telle, les cumuls des discriminations,les injonctions permanentes et la suspicion quotidienne, cessons d'inverser le prisme\", '', 'Do you refer to the direct treatment of Muslim populations or perceived as such, the cumulative discrimination, permanent injunctions and everyday suspicion? We must cease to turn the prism.', 'islamization', 'denouncing - question'), 'Change de lunettes....': ('', 'Change de lunettes....', '', 'Change the glasses ....', 'islamization', 'humor'), 'Qui dit problème dit solution. ...': ('', 'Qui dit problème dit solution. ...', '', 'Who says the problem says the solution. ...', 'islamization', 'other'), 'Analyse du \"nous\"? Qui en fait?': ('', 'Analyse du \"nous\"? Qui en fait?', '', 'Analysis of the \"we\"? Who makes it?', 'islamization', 'question'), \"Il n'y a pas de problème musulman, il n'y a que de problèmes humains, l'islam est une religion de positivité\": ('', \"Il n'y a pas de problème musulman, il n'y a que de problèmes humains, l'islam est une religion de positivité\", '', 'There is no Muslim problem, there are only human problems, Islam is a religion of positivity', 'islamization', 'facts - positive'), 'Changer de paire de lunettes, elles sont #islamophobes': ('', 'Changer de paire de lunettes, elles sont #islamophobes', '', 'Switch pair of eyeglasses, they are #islamophobes', 'islamization', 'humor'), \"Je suis sûr que vous en voyez un, pour autant cela ne veut pas dire qu'il existe.\": ('', \"Je suis sûr que vous en voyez un, pour autant cela ne veut pas dire qu'il existe.\", '', \"I'm sure that you see one, but this does not mean that it exists.\", 'islamization', 'humor'), \"Il n'y a pas de problème musulman en France, il y a de plus en plus un problème avec la visibilité des musulmans.\": ('', \"Il n'y a pas de problème musulman en France, il y a de plus en plus un problème avec la visibilité des musulmans.\", '', 'There is no Muslim problem in France, there is increasingly a problem with the visibility of Muslims.', 'islamization', 'facts'), \"Cette impression résulte certainement d'une surmédiatisation des musulmans. Le sujet fait vendre !\": ('', \"Cette impression résulte certainement d'une surmédiatisation des musulmans. Le sujet fait vendre !\", '', 'This impression is certainly the result of excessive media coverage of Muslims. The object sells!', 'islamization', 'facts'), 'Par manque de solution, les politiciens se focalisent sur les musulmans.': ('', 'Par manque de solution, les politiciens se focalisent sur les musulmans.', '', 'For lack of a solution, politicians focus on Muslims.', 'islamization', 'facts'), \"Non c'est ce genre de tweet qui est une escroquerie pour l'Humanité.\": ('On ne peut pas faire confiance aux musulmans c’est tous des escrocs.', \"Non c'est ce genre de tweet qui est une escroquerie pour l'Humanité.\", 'We cannot trust the Muslims, they are all swindlers.', \"No, it's this kind of tweet that is a scam for humanity.\", 'crimes', 'denouncing'), \"votre objectif est de briser la concorde nationale? vous n' y parviendrez pas\": ('', \"votre objectif est de briser la concorde nationale? vous n' y parviendrez pas\", '', \"Is your goal aimed to break national harmony? you won't succeed\", 'crimes', 'denouncing'), \"essentialisation de personnes en raison de leur religion, c'est un discours de haine répréhensible\": ('', \"essentialisation de personnes en raison de leur religion, c'est un discours de haine répréhensible\", '', 'The essentialization of people because of their religion, it is a reprehensible hate speech', 'crimes', 'denouncing'), \"Cette affirmation est une escroquerie contre la liberté d'expression, et punie par loi. Ceci en plus qu'elle est complètement fausse puisque l'escroquerie sous toutes ses formes est bannie par l'Islam\": ('', \"Cette affirmation est une escroquerie contre la liberté d'expression, et punie par loi. Ceci en plus qu'elle est complètement fausse puisque l'escroquerie sous toutes ses formes est bannie par l'Islam\", '', 'This claim is a scam against freedom of expression, and punishable by law. This, in addition, it is completely false since the fraud in any form is banned by Islam', 'crimes', 'denouncing - consequences - hypocrisy'), \"Avec une telle fausse affirmation, on ne peut sûrement pas faire confiance à votre jugement ! Cette façon d'essentialiser ne convaincra personne\": ('', \"Avec une telle fausse affirmation, on ne peut sûrement pas faire confiance à votre jugement ! Cette façon d'essentialiser ne convaincra personne\", '', 'With such a false statement, it is sure that we cannot trust your judgment! This way of essentialisation will not convince anyone.', 'crimes', 'denouncing'), \"Et vous escroquez votre esprit critique, s'il vous en reste ! Les musulmans sont juste comme les autres groupes humains, honnêtes dans leur écrasante majorité\": ('', \"Et vous escroquez votre esprit critique, s'il vous en reste ! Les musulmans sont juste comme les autres groupes humains, honnêtes dans leur écrasante majorité\", '', 'Make your critic mind vacillate if you have more left! Muslims are just like other human groups, honest in most cases.', 'crimes', 'denouncing - facts'), 'Une telle réflexion mérite le prix Nobel ! Sérieusement, vous mettez en grave danger votre crédibilité intellectuelle': ('', 'Une telle réflexion mérite le prix Nobel ! Sérieusement, vous mettez en grave danger votre crédibilité intellectuelle', '', 'Such reflection deserves the Nobel Prize! Seriously, you put in grave danger your intellectual credibility', 'crimes', 'humor - denouncing'), 'Bravo, quelle lumière ! Affirmation ridicule': ('', 'Bravo, quelle lumière ! Affirmation ridicule', '', 'Bravo, what light! Ridiculous claim', 'crimes', 'humor - denouncing'), \"#islamophobie. La liberté de porter le voile est une liberté fondamentale des droits humains. Il ne va pas à l'encontre de votre liberté\": ('Ton voile est une agression contre moi.', \"#islamophobie. La liberté de porter le voile est une liberté fondamentale des droits humains. Il ne va pas à l'encontre de votre liberté\", 'Your veil is aggression on me.', \"#islamophobia. The freedom to wear the veil is a fundamental freedom of human rights. It doesn't go against your freedom\", 'generic', 'facts'), 'Je tiens à vous rassurer rien dans la constitution ne vous oblige à regarder une femme portant le voile': ('', 'Je tiens à vous rassurer rien dans la constitution ne vous oblige à regarder une femme portant le voile', '', 'I want to assure you that nothing in the constitution force you to look at a woman wearing the veil', 'generic', 'facts - hypocrisy'), \"ne le prenez pas pour vous, je pense que les femmes ne s'habillent pas pour provoquer telle ou telle émotion chez vous\": ('', \"ne le prenez pas pour vous, je pense que les femmes ne s'habillent pas pour provoquer telle ou telle émotion chez vous\", '', \"Don't be mad, but I think that women do not dress to cause any particular emotion in you\", 'generic', 'hypocrisy'), \"J'ai vu des voiles tellement différents dans leurs formes et couleurs ,vous trouverez surement celui qui vous plait\": ('', \"J'ai vu des voiles tellement différents dans leurs formes et couleurs ,vous trouverez surement celui qui vous plait\", '', 'I saw so many different veils in their shapes and colors, you will surely find one that you like', 'generic', 'humor'), \"un simple tissu vous provoque cela? n'ayez crainte il y a des personnes humaines dessous\": ('', \"un simple tissu vous provoque cela? n'ayez crainte il y a des personnes humaines dessous\", '', 'Does a simple tissue cause this to you? Do not fear, there are human persons below', 'generic', 'humor'), \"fixez vous d'autres obsessions\": ('', \"fixez vous d'autres obsessions\", '', 'Repair other obsessions', 'generic', 'denouncing'), 'Tes paroles me font saigner...': ('', 'Tes paroles me font saigner...', '', 'Your words make me bleed ...', 'generic', 'denouncing'), 'Pourquoi n essayes tu pas de le porter et voir si tu provoques le même effet..?': ('', 'Pourquoi n essayes tu pas de le porter et voir si tu provoques le même effet..?', '', \"Why don't you try to wear it and see if it causes the same effect ..?\", 'generic', 'hypocrisy - humor'), 'Le discours verbal est aussi une forme d agression': ('', 'Le discours verbal est aussi une forme d agression', '', 'Verbal conversation is a form of aggression', 'generic', 'denouncing'), \"En quoi un bout de tissu peut être une agression contre quelqu'un\": ('', \"En quoi un bout de tissu peut être une agression contre quelqu'un\", '', 'How can a piece of fabric be aggression against someone?', 'generic', 'denouncing'), \"Porter un voile, et donc, exprimer son opinion religieuse est une des libertés fondamentales de l'individu. Chacun de nous exprime son individualité. Le port du voile, de la même manière, est l'expression d'une individualité.\": ('', \"Porter un voile, et donc, exprimer son opinion religieuse est une des libertés fondamentales de l'individu. Chacun de nous exprime son individualité. Le port du voile, de la même manière, est l'expression d'une individualité.\", '', 'Wearing a veil, and thus express his own religious opinion is one of the fundamental freedoms of the individual. Each of us expresses his individuality. Wearing the veil, in the same way, is an expression of individuality.', 'generic', 'facts'), \"Oh mais tu sais c' juste un bout de tissus\": ('', \"Oh mais tu sais c' juste un bout de tissus\", '', \"Oh, but do you know that it's only a piece of fabric?\", 'generic', 'humor'), \"Vient je t'invite a boire un thé\": ('', \"Vient je t'invite a boire un thé\", '', 'Come on, I invite you to drink a cup of tea.', 'generic', 'other'), 'Un foulard bout de tissu qui couvre la tête non nocif non explosif': ('', 'Un foulard bout de tissu qui couvre la tête non nocif non explosif', '', 'A scarf made of cloth that covers the head is harmless and non-explosive', 'generic', 'facts'), \"En quoi il t'agresse?\": ('', \"En quoi il t'agresse?\", '', 'In what whay does it attack you?', 'generic', 'question'), \"Ton problème est l'intolérance pas le voile\": ('', \"Ton problème est l'intolérance pas le voile\", '', 'Your problem is intolerance, not the veil.', 'generic', 'denouncing'), 'Le voile est sur ma tête pas sur la tienne': ('', 'Le voile est sur ma tête pas sur la tienne', '', 'The veil is on my head, not on yours', 'generic', 'denouncing'), \"C'est toi qui m'agresse, mon voile est rester sur ma tête est n'a rien fait.\": ('', \"C'est toi qui m'agresse, mon voile est rester sur ma tête est n'a rien fait.\", '', 'It is you, who attack me, my veil stays on my head and does not do anything.', 'generic', 'denouncing - facts'), \"Ce n'est pas son but. Mon voile est un vêtement qui fait partie de moi.\": ('', \"Ce n'est pas son but. Mon voile est un vêtement qui fait partie de moi.\", '', 'This is not his goal. My veil is a piece of clothing that is part of me.', 'generic', 'facts'), \"C'est ta façon de l'envisager, en aucun cas une finalité. Je le porte librement, religieusement, pour moi-même.\": ('', \"C'est ta façon de l'envisager, en aucun cas une finalité. Je le porte librement, religieusement, pour moi-même.\", '', \"This is the way you see it, in any case, it isn't his purpose. I freely wear it, religiously, for myself.\", 'generic', 'facts'), \"T'aime pas la couleur ?\": ('', \"T'aime pas la couleur ?\", '', 'Do you not like the color?', 'generic', 'humor')}\n"
     ]
    }
   ],
   "source": [
    "print(fr_pairs)"
   ]
  },
  {
   "cell_type": "markdown",
   "metadata": {},
   "source": [
    "#### Table with the distribution of counterspeech types in the dataset"
   ]
  },
  {
   "cell_type": "code",
   "execution_count": 7,
   "metadata": {},
   "outputs": [
    {
     "name": "stdout",
     "output_type": "stream",
     "text": [
      "+--------------+--------+------------+\n",
      "|     Type     | Number | Percentage |\n",
      "+--------------+--------+------------+\n",
      "|   negative   |   2    |     0      |\n",
      "| affiliation  |   3    |     1      |\n",
      "| consequences |   5    |     1      |\n",
      "|   question   |   26   |     6      |\n",
      "|   positive   |   29   |     7      |\n",
      "|  hypocrisy   |   48   |     12     |\n",
      "|    humor     |   59   |     14     |\n",
      "|  denouncing  |   77   |     19     |\n",
      "|    facts     |  164   |     40     |\n",
      "+--------------+--------+------------+\n"
     ]
    }
   ],
   "source": [
    "x = PrettyTable()\n",
    "\n",
    "cstypes = [fr_pairs[key][5].lower() for key in fr_pairs]\n",
    "\n",
    "cs_tags = {'negative': 0, 'denouncing': 0, 'facts': 0, 'question': 0, 'hypocrisy': 0, 'affiliation': 0, 'positive': 0, 'humor': 0, 'consequences': 0}\n",
    "\n",
    "for t in cstypes:\n",
    "    for tag in cs_tags.keys():\n",
    "        if tag in t:\n",
    "            cs_tags[tag] += 1\n",
    "            \n",
    "total = sum(cs_tags.values())\n",
    "\n",
    "x.field_names = ['Type', 'Number', 'Percentage']\n",
    "for tag in sorted(cs_tags, key = lambda x: cs_tags[x]):\n",
    "    x.add_row([tag, cs_tags[tag], round(cs_tags[tag]/total*100)])\n",
    "    \n",
    "print(x)"
   ]
  },
  {
   "cell_type": "markdown",
   "metadata": {},
   "source": [
    "#### Table with the distribution of hate types in the dataset"
   ]
  },
  {
   "cell_type": "code",
   "execution_count": 8,
   "metadata": {},
   "outputs": [
    {
     "name": "stdout",
     "output_type": "stream",
     "text": [
      "+--------------+--------+------------+\n",
      "|     Type     | Number | Percentage |\n",
      "+--------------+--------+------------+\n",
      "|    rapism    |   0    |     0      |\n",
      "|   economic   |   8    |     2      |\n",
      "|    crime     |   11   |     3      |\n",
      "| islamization |   32   |     8      |\n",
      "|  terrorism   |   49   |     13     |\n",
      "|    women     |   80   |     21     |\n",
      "|   culture    |   99   |     26     |\n",
      "|   generic    |  109   |     28     |\n",
      "+--------------+--------+------------+\n"
     ]
    }
   ],
   "source": [
    "hstypes = [fr_pairs[key][4].lower() for key in fr_pairs]\n",
    "\n",
    "hs_tags = {'rapism': 0, 'culture': 0, 'crime': 0, 'economic': 0, 'terrorism': 0, 'islamization': 0, 'generic': 0, 'women': 0}\n",
    "\n",
    "for t in hstypes:\n",
    "    for tag in hs_tags.keys():\n",
    "        if tag in t:\n",
    "            hs_tags[tag] += 1\n",
    "            \n",
    "x = PrettyTable()\n",
    "total = sum(hs_tags.values())\n",
    "\n",
    "x.field_names = ['Type', 'Number', 'Percentage']\n",
    "for tag in sorted(hs_tags, key = lambda x: hs_tags[x]):\n",
    "    x.add_row([tag, hs_tags[tag], round(hs_tags[tag]/total*100)])\n",
    "    \n",
    "print(x)"
   ]
  },
  {
   "cell_type": "markdown",
   "metadata": {},
   "source": [
    "#### Table with the distribution of counterspeech types across hate types in the dataset"
   ]
  },
  {
   "cell_type": "code",
   "execution_count": 9,
   "metadata": {},
   "outputs": [
    {
     "name": "stdout",
     "output_type": "stream",
     "text": [
      "+--------------+--------------------+--------+-------------------------------+\n",
      "|  Hate type   | Counterspeech type | Number | Percentage for this hate type |\n",
      "+--------------+--------------------+--------+-------------------------------+\n",
      "|   culture    |      negative      |   1    |               1               |\n",
      "|   culture    |    consequences    |   1    |               1               |\n",
      "|   culture    |      question      |   7    |               6               |\n",
      "|   culture    |     hypocrisy      |   7    |               6               |\n",
      "|   culture    |      positive      |   12   |               11              |\n",
      "|   culture    |       humor        |   16   |               14              |\n",
      "|   culture    |     denouncing     |   23   |               20              |\n",
      "|   culture    |       facts        |   46   |               41              |\n",
      "|    crime     |     hypocrisy      |   1    |               6               |\n",
      "|    crime     |    consequences    |   1    |               6               |\n",
      "|    crime     |      positive      |   2    |               12              |\n",
      "|    crime     |       facts        |   2    |               12              |\n",
      "|    crime     |       humor        |   2    |               12              |\n",
      "|    crime     |     denouncing     |   8    |               50              |\n",
      "|   economic   |     denouncing     |   1    |               12              |\n",
      "|   economic   |     hypocrisy      |   2    |               25              |\n",
      "|   economic   |       facts        |   5    |               62              |\n",
      "|  terrorism   |      negative      |   1    |               2               |\n",
      "|  terrorism   |      positive      |   1    |               2               |\n",
      "|  terrorism   |      question      |   3    |               6               |\n",
      "|  terrorism   |       facts        |   8    |               15              |\n",
      "|  terrorism   |     hypocrisy      |   9    |               17              |\n",
      "|  terrorism   |     denouncing     |   12   |               23              |\n",
      "|  terrorism   |       humor        |   18   |               35              |\n",
      "| islamization |    consequences    |   1    |               3               |\n",
      "| islamization |     hypocrisy      |   1    |               3               |\n",
      "| islamization |    affiliation     |   1    |               3               |\n",
      "| islamization |      question      |   2    |               6               |\n",
      "| islamization |      positive      |   3    |               9               |\n",
      "| islamization |     denouncing     |   3    |               9               |\n",
      "| islamization |       humor        |   4    |               12              |\n",
      "| islamization |       facts        |   18   |               55              |\n",
      "|   generic    |    affiliation     |   1    |               1               |\n",
      "|   generic    |    consequences    |   2    |               2               |\n",
      "|   generic    |      question      |   5    |               4               |\n",
      "|   generic    |      positive      |   7    |               6               |\n",
      "|   generic    |       humor        |   12   |               10              |\n",
      "|   generic    |     hypocrisy      |   16   |               14              |\n",
      "|   generic    |     denouncing     |   23   |               20              |\n",
      "|   generic    |       facts        |   49   |               43              |\n",
      "|    women     |    affiliation     |   1    |               1               |\n",
      "|    women     |      positive      |   6    |               8               |\n",
      "|    women     |     denouncing     |   7    |               9               |\n",
      "|    women     |       humor        |   7    |               9               |\n",
      "|    women     |      question      |   9    |               12              |\n",
      "|    women     |     hypocrisy      |   12   |               15              |\n",
      "|    women     |       facts        |   36   |               46              |\n",
      "+--------------+--------------------+--------+-------------------------------+\n"
     ]
    }
   ],
   "source": [
    "cross = {h: {} for h in hs_tags}\n",
    "for i in fr_pairs:\n",
    "    for h in hs_tags:\n",
    "        for c in cs_tags:\n",
    "            if c in fr_pairs[i][5] and h in fr_pairs[i][4]:\n",
    "                try:\n",
    "                    cross[h][c] += 1\n",
    "                except KeyError:\n",
    "                    cross[h][c] = 1\n",
    "                    \n",
    "x = PrettyTable()\n",
    "\n",
    "x.field_names = ['Hate type', 'Counterspeech type', 'Number', 'Percentage for this hate type']\n",
    "                    \n",
    "for hs_type in cross:\n",
    "    cs_types = cross[hs_type]\n",
    "    total = sum(cs_types.values())\n",
    "    for cs_type in sorted(cs_types, key=lambda z: cs_types[z]):\n",
    "        x.add_row([hs_type, cs_type, cs_types[cs_type], round(cs_types[cs_type]/total*100)])\n",
    "\n",
    "print(x)"
   ]
  },
  {
   "cell_type": "code",
   "execution_count": null,
   "metadata": {},
   "outputs": [],
   "source": []
  }
 ],
 "metadata": {
  "kernelspec": {
   "display_name": "Python 3",
   "language": "python",
   "name": "python3"
  },
  "language_info": {
   "codemirror_mode": {
    "name": "ipython",
    "version": 3
   },
   "file_extension": ".py",
   "mimetype": "text/x-python",
   "name": "python",
   "nbconvert_exporter": "python",
   "pygments_lexer": "ipython3",
   "version": "3.6.7"
  }
 },
 "nbformat": 4,
 "nbformat_minor": 2
}
